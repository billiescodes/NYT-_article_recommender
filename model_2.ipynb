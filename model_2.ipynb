{
 "cells": [
  {
   "cell_type": "code",
   "execution_count": 1,
   "metadata": {
    "collapsed": true,
    "deletable": true,
    "editable": true
   },
   "outputs": [],
   "source": [
    "import pandas as pd\n",
    "import numpy as np\n",
    "import matplotlib.pyplot as plt\n",
    "import seaborn as sns\n",
    "%matplotlib inline\n",
    "import datetime as dt \n",
    "\n",
    "from pymongo import MongoClient"
   ]
  },
  {
   "cell_type": "code",
   "execution_count": 2,
   "metadata": {
    "collapsed": true,
    "deletable": true,
    "editable": true
   },
   "outputs": [],
   "source": [
    "# for vectorization\n",
    "from sklearn.feature_extraction.text import CountVectorizer, TfidfVectorizer\n",
    "from sklearn.decomposition import TruncatedSVD, NMF\n",
    "from sklearn.preprocessing import Normalizer\n",
    "\n",
    "#preprocessing\n",
    "from sklearn.preprocessing import Normalizer"
   ]
  },
  {
   "cell_type": "code",
   "execution_count": 3,
   "metadata": {
    "collapsed": false,
    "deletable": true,
    "editable": true
   },
   "outputs": [
    {
     "name": "stdout",
     "output_type": "stream",
     "text": [
      "the loading took 0 seconds \n"
     ]
    }
   ],
   "source": [
    "import datetime as dt \n",
    "\n",
    "start = dt.datetime.now()\n",
    "#print ('test')\n",
    "\n",
    "print \"the loading took {} seconds \".format((dt.datetime.now()-start).seconds)"
   ]
  },
  {
   "cell_type": "code",
   "execution_count": 4,
   "metadata": {
    "collapsed": true,
    "deletable": true,
    "editable": true
   },
   "outputs": [],
   "source": [
    "# connect to nytime database\n",
    "\n",
    "client = MongoClient()\n",
    "\n",
    "db = client.nyt\n",
    "nyt_fulltext = db.nyt_fulltext\n",
    "\n",
    "nyt_data = db.nyt_data"
   ]
  },
  {
   "cell_type": "markdown",
   "metadata": {
    "deletable": true,
    "editable": true
   },
   "source": [
    "### billie's pipeline\n",
    "\n",
    "1. Read in data from MongodDB \n",
    "2. extract text from each article\n",
    "3. text needs to remove stop words, commas, \n",
    "    1. use tfidf here, it will do this for you\n",
    "4. get vectors for the document\n",
    "5. np.mean() for the vectors, get one mean vector for document\n",
    "6. take cosine similarity with reference document\n",
    "7. pick N top choices for Recommendations"
   ]
  },
  {
   "cell_type": "code",
   "execution_count": 5,
   "metadata": {
    "collapsed": false,
    "deletable": true,
    "editable": true
   },
   "outputs": [
    {
     "data": {
      "text/plain": [
       "12952"
      ]
     },
     "execution_count": 5,
     "metadata": {},
     "output_type": "execute_result"
    }
   ],
   "source": [
    "nyt_fulltext.count()"
   ]
  },
  {
   "cell_type": "markdown",
   "metadata": {
    "deletable": true,
    "editable": true
   },
   "source": [
    "### Step 1: extract text"
   ]
  },
  {
   "cell_type": "code",
   "execution_count": 6,
   "metadata": {
    "collapsed": false,
    "deletable": true,
    "editable": true
   },
   "outputs": [],
   "source": [
    "''' retrieve full corpus'''\n",
    "test = list(db.nyt_fulltext.find({},{\"article\": 1,\n",
    "                                    \"query\": 1,\n",
    "                                    \"headline\": 1,\n",
    "                                      \"date\" : 1\n",
    "   }) )\n",
    "# consider also \"snippet\" :1\n",
    "# later do whole text"
   ]
  },
  {
   "cell_type": "code",
   "execution_count": 7,
   "metadata": {
    "collapsed": false,
    "deletable": true,
    "editable": true
   },
   "outputs": [
    {
     "data": {
      "text/html": [
       "<div>\n",
       "<table border=\"1\" class=\"dataframe\">\n",
       "  <thead>\n",
       "    <tr style=\"text-align: right;\">\n",
       "      <th></th>\n",
       "      <th>query</th>\n",
       "      <th>article</th>\n",
       "      <th>headline</th>\n",
       "      <th>date</th>\n",
       "    </tr>\n",
       "  </thead>\n",
       "  <tbody>\n",
       "    <tr>\n",
       "      <th>0</th>\n",
       "      <td>economics</td>\n",
       "      <td>BIDDEFORD, Me.  When Kylie Galliani started at...</td>\n",
       "      <td>With Free Bikes, Challenging Car Culture on Ca...</td>\n",
       "      <td>2008-10-20</td>\n",
       "    </tr>\n",
       "    <tr>\n",
       "      <th>1</th>\n",
       "      <td>economics</td>\n",
       "      <td>In the video below, CNBC reports anew on New Y...</td>\n",
       "      <td>Wind Turbines in New York?</td>\n",
       "      <td>2008-10-20</td>\n",
       "    </tr>\n",
       "    <tr>\n",
       "      <th>2</th>\n",
       "      <td>economics</td>\n",
       "      <td>Is Europe no longer an economic museum? In rec...</td>\n",
       "      <td>Suddenly, Europe Looks Pretty Smart</td>\n",
       "      <td>2008-10-20</td>\n",
       "    </tr>\n",
       "  </tbody>\n",
       "</table>\n",
       "</div>"
      ],
      "text/plain": [
       "       query                                            article  \\\n",
       "0  economics  BIDDEFORD, Me.  When Kylie Galliani started at...   \n",
       "1  economics  In the video below, CNBC reports anew on New Y...   \n",
       "2  economics  Is Europe no longer an economic museum? In rec...   \n",
       "\n",
       "                                            headline        date  \n",
       "0  With Free Bikes, Challenging Car Culture on Ca...  2008-10-20  \n",
       "1                         Wind Turbines in New York?  2008-10-20  \n",
       "2                Suddenly, Europe Looks Pretty Smart  2008-10-20  "
      ]
     },
     "execution_count": 7,
     "metadata": {},
     "output_type": "execute_result"
    }
   ],
   "source": [
    "df = pd.DataFrame(test, columns=[\"query\", 'article', 'headline', 'date'] )\n",
    "df[:3]"
   ]
  },
  {
   "cell_type": "code",
   "execution_count": 13,
   "metadata": {
    "collapsed": false
   },
   "outputs": [
    {
     "data": {
      "text/plain": [
       "query       2151\n",
       "article     2117\n",
       "headline    2151\n",
       "date        2151\n",
       "dtype: int64"
      ]
     },
     "execution_count": 13,
     "metadata": {},
     "output_type": "execute_result"
    }
   ],
   "source": [
    "# business 370, economics 2899, sports 2728, music 4277,1000 , politics 1570\n",
    "# music = 4303, economics 980, sports 2715, tech 990            # politics 950\n",
    "df[df['query']=='music'].count()"
   ]
  },
  {
   "cell_type": "code",
   "execution_count": 9,
   "metadata": {
    "collapsed": false,
    "deletable": true,
    "editable": true
   },
   "outputs": [],
   "source": [
    "#Use the first 6 months\n",
    "df = df[(df['date'] > '2016-01-01') & (df['date'] < '2016-10-31')]"
   ]
  },
  {
   "cell_type": "code",
   "execution_count": 10,
   "metadata": {
    "collapsed": false,
    "deletable": true,
    "editable": true
   },
   "outputs": [
    {
     "data": {
      "text/plain": [
       "(10296, 4)"
      ]
     },
     "execution_count": 10,
     "metadata": {},
     "output_type": "execute_result"
    }
   ],
   "source": [
    "df.shape"
   ]
  },
  {
   "cell_type": "markdown",
   "metadata": {},
   "source": [
    "#### rows dropped + and drop null titles + Duplicates \n",
    "- music: every 3rd then every 2nd  1434\n",
    "- sports: every 2nd row: 1357"
   ]
  },
  {
   "cell_type": "code",
   "execution_count": 11,
   "metadata": {
    "collapsed": false
   },
   "outputs": [],
   "source": [
    "## drop music and sports rows\n",
    "df.drop( df[df['query']=='music'][::2].index, axis=0, inplace=True)\n",
    "df.drop( df[df['query']=='sports'][::2].index, axis=0, inplace=True)"
   ]
  },
  {
   "cell_type": "code",
   "execution_count": 14,
   "metadata": {
    "collapsed": false
   },
   "outputs": [
    {
     "data": {
      "text/plain": [
       "query       964\n",
       "article     956\n",
       "headline    964\n",
       "date        964\n",
       "dtype: int64"
      ]
     },
     "execution_count": 14,
     "metadata": {},
     "output_type": "execute_result"
    }
   ],
   "source": [
    "df[df['query']=='politics'].count()"
   ]
  },
  {
   "cell_type": "code",
   "execution_count": 15,
   "metadata": {
    "collapsed": false
   },
   "outputs": [
    {
     "data": {
      "text/plain": [
       "query       2151\n",
       "article     2117\n",
       "headline    2151\n",
       "date        2151\n",
       "dtype: int64"
      ]
     },
     "execution_count": 15,
     "metadata": {},
     "output_type": "execute_result"
    }
   ],
   "source": [
    "df[df['query']=='music'].count()"
   ]
  },
  {
   "cell_type": "code",
   "execution_count": 16,
   "metadata": {
    "collapsed": false
   },
   "outputs": [
    {
     "data": {
      "text/plain": [
       "query       1357\n",
       "article     1349\n",
       "headline    1357\n",
       "date        1357\n",
       "dtype: int64"
      ]
     },
     "execution_count": 16,
     "metadata": {},
     "output_type": "execute_result"
    }
   ],
   "source": [
    "#df.drop( df[df['query']=='sports'][::2].index, axis=0, inplace=True)\n",
    "df[df['query']=='sports'].count()"
   ]
  },
  {
   "cell_type": "code",
   "execution_count": 17,
   "metadata": {
    "collapsed": false,
    "deletable": true,
    "editable": true
   },
   "outputs": [
    {
     "data": {
      "text/plain": [
       "array([u'economics', u'politics', u'tech', u'business', u'sports', u'music'], dtype=object)"
      ]
     },
     "execution_count": 17,
     "metadata": {},
     "output_type": "execute_result"
    }
   ],
   "source": [
    "df['query'].unique()"
   ]
  },
  {
   "cell_type": "code",
   "execution_count": 18,
   "metadata": {
    "collapsed": true,
    "deletable": true,
    "editable": true
   },
   "outputs": [],
   "source": [
    "df.dropna(axis=0,inplace=True)"
   ]
  },
  {
   "cell_type": "code",
   "execution_count": 19,
   "metadata": {
    "collapsed": false,
    "deletable": true,
    "editable": true
   },
   "outputs": [
    {
     "data": {
      "text/plain": [
       "query       0\n",
       "article     0\n",
       "headline    0\n",
       "date        0\n",
       "dtype: int64"
      ]
     },
     "execution_count": 19,
     "metadata": {},
     "output_type": "execute_result"
    }
   ],
   "source": [
    "df[df.article.isnull()].count()"
   ]
  },
  {
   "cell_type": "code",
   "execution_count": 20,
   "metadata": {
    "collapsed": false,
    "deletable": true,
    "editable": true
   },
   "outputs": [],
   "source": [
    "df.drop_duplicates(subset=['headline'], inplace=True)"
   ]
  },
  {
   "cell_type": "code",
   "execution_count": 21,
   "metadata": {
    "collapsed": false,
    "deletable": true,
    "editable": true
   },
   "outputs": [
    {
     "data": {
      "text/plain": [
       "(6203, 4)"
      ]
     },
     "execution_count": 21,
     "metadata": {},
     "output_type": "execute_result"
    }
   ],
   "source": [
    "df.shape"
   ]
  },
  {
   "cell_type": "code",
   "execution_count": 22,
   "metadata": {
    "collapsed": false,
    "deletable": true,
    "editable": true
   },
   "outputs": [
    {
     "name": "stdout",
     "output_type": "stream",
     "text": [
      "<class 'pandas.core.frame.DataFrame'>\n",
      "Int64Index: 6203 entries, 927 to 12948\n",
      "Data columns (total 4 columns):\n",
      "query       6203 non-null object\n",
      "article     6203 non-null object\n",
      "headline    6203 non-null object\n",
      "date        6203 non-null object\n",
      "dtypes: object(4)\n",
      "memory usage: 242.3+ KB\n"
     ]
    }
   ],
   "source": [
    "df.info()"
   ]
  },
  {
   "cell_type": "code",
   "execution_count": 23,
   "metadata": {
    "collapsed": false,
    "deletable": true,
    "editable": true
   },
   "outputs": [
    {
     "data": {
      "text/plain": [
       "array([u'economics', u'politics', u'tech', u'business', u'sports', u'music'], dtype=object)"
      ]
     },
     "execution_count": 23,
     "metadata": {},
     "output_type": "execute_result"
    }
   ],
   "source": [
    "df['query'].unique()"
   ]
  },
  {
   "cell_type": "markdown",
   "metadata": {
    "deletable": true,
    "editable": true
   },
   "source": [
    "# step 2: preprocessing of the text\n",
    "= try 2-grams"
   ]
  },
  {
   "cell_type": "code",
   "execution_count": 24,
   "metadata": {
    "collapsed": false,
    "deletable": true,
    "editable": true
   },
   "outputs": [
    {
     "data": {
      "text/plain": [
       "['central', 'chinas', 'greeces', 'greek', 'big']"
      ]
     },
     "execution_count": 24,
     "metadata": {},
     "output_type": "execute_result"
    }
   ],
   "source": [
    "from nltk.corpus import stopwords\n",
    "stop = stopwords.words('english')\n",
    "stop += ['.', ',', '(', ')', \"'\", '\"']\n",
    "stop += ['would','one','like', 'mr','ms','also','could','said','should',\n",
    "     'first', 'two', 'three', 'four', 'five', 'six', 'seven', 'eight'\n",
    "    , 'nine', 'ten', 'mrs', 'years','last', 'im' ,'dont','street', 'think',\n",
    "        'time', 'many', 'even', 'sanderss', 'york', 'new', 'companies', 'trumps'\n",
    "        , 'donald', 'bernie','apples', 'de', 'com', 'year',\n",
    "        'percent', 'much', 'cruzs', 'clintons', 'care', 'rose','org',\n",
    "        'make', 'ted', 'dr', 'start','union','news','program','banks', 'central',\n",
    "        'chinas','greeces', 'greek', 'big' ]\n",
    "\n",
    "stop[-5:]"
   ]
  },
  {
   "cell_type": "code",
   "execution_count": 25,
   "metadata": {
    "collapsed": true,
    "deletable": true,
    "editable": true
   },
   "outputs": [],
   "source": [
    "#tfidf = TfidfVectorizer(stop, min_df=5, ngram_range=(1,1) )\n",
    "## token pattern should get rid off  the numbers\n",
    "\n",
    "CountVectorizer\n",
    "tfidf = TfidfVectorizer(stop_words=stop,min_df=20, token_pattern=\"\\\\b[a-zA-Z][a-zA-Z]+\\\\b\",\n",
    "                        # lowercase=True, # default\n",
    "                        ngram_range=(1,2) )"
   ]
  },
  {
   "cell_type": "code",
   "execution_count": 26,
   "metadata": {
    "collapsed": false,
    "deletable": true,
    "editable": true
   },
   "outputs": [],
   "source": [
    "tfidf_vecs = tfidf.fit_transform(df.article)\n",
    "#tfidf_vecs = tfidf.fit_transform(df_smaller.article)"
   ]
  },
  {
   "cell_type": "code",
   "execution_count": 27,
   "metadata": {
    "collapsed": false,
    "deletable": true,
    "editable": true
   },
   "outputs": [
    {
     "data": {
      "text/html": [
       "<div>\n",
       "<table border=\"1\" class=\"dataframe\">\n",
       "  <thead>\n",
       "    <tr style=\"text-align: right;\">\n",
       "      <th></th>\n",
       "      <th>aaa</th>\n",
       "      <th>aaron</th>\n",
       "      <th>abandon</th>\n",
       "      <th>abandoned</th>\n",
       "      <th>abandoning</th>\n",
       "      <th>abbey</th>\n",
       "      <th>abbott</th>\n",
       "      <th>abc</th>\n",
       "      <th>abcs</th>\n",
       "      <th>abdul</th>\n",
       "      <th>...</th>\n",
       "      <th>zip</th>\n",
       "      <th>zoe</th>\n",
       "      <th>zombies</th>\n",
       "      <th>zone</th>\n",
       "      <th>zone discovering</th>\n",
       "      <th>zones</th>\n",
       "      <th>zoning</th>\n",
       "      <th>zoo</th>\n",
       "      <th>zuckerberg</th>\n",
       "      <th>zurich</th>\n",
       "    </tr>\n",
       "  </thead>\n",
       "  <tbody>\n",
       "    <tr>\n",
       "      <th>0</th>\n",
       "      <td>0.0</td>\n",
       "      <td>0.0</td>\n",
       "      <td>0.0</td>\n",
       "      <td>0.0</td>\n",
       "      <td>0.0</td>\n",
       "      <td>0.0</td>\n",
       "      <td>0.0</td>\n",
       "      <td>0.0</td>\n",
       "      <td>0.0</td>\n",
       "      <td>0.0</td>\n",
       "      <td>...</td>\n",
       "      <td>0.0</td>\n",
       "      <td>0.0</td>\n",
       "      <td>0.0</td>\n",
       "      <td>0.0</td>\n",
       "      <td>0.0</td>\n",
       "      <td>0.0</td>\n",
       "      <td>0.0</td>\n",
       "      <td>0.0</td>\n",
       "      <td>0.0</td>\n",
       "      <td>0.0</td>\n",
       "    </tr>\n",
       "    <tr>\n",
       "      <th>1</th>\n",
       "      <td>0.0</td>\n",
       "      <td>0.0</td>\n",
       "      <td>0.0</td>\n",
       "      <td>0.0</td>\n",
       "      <td>0.0</td>\n",
       "      <td>0.0</td>\n",
       "      <td>0.0</td>\n",
       "      <td>0.0</td>\n",
       "      <td>0.0</td>\n",
       "      <td>0.0</td>\n",
       "      <td>...</td>\n",
       "      <td>0.0</td>\n",
       "      <td>0.0</td>\n",
       "      <td>0.0</td>\n",
       "      <td>0.0</td>\n",
       "      <td>0.0</td>\n",
       "      <td>0.0</td>\n",
       "      <td>0.0</td>\n",
       "      <td>0.0</td>\n",
       "      <td>0.0</td>\n",
       "      <td>0.0</td>\n",
       "    </tr>\n",
       "    <tr>\n",
       "      <th>2</th>\n",
       "      <td>0.0</td>\n",
       "      <td>0.0</td>\n",
       "      <td>0.0</td>\n",
       "      <td>0.0</td>\n",
       "      <td>0.0</td>\n",
       "      <td>0.0</td>\n",
       "      <td>0.0</td>\n",
       "      <td>0.0</td>\n",
       "      <td>0.0</td>\n",
       "      <td>0.0</td>\n",
       "      <td>...</td>\n",
       "      <td>0.0</td>\n",
       "      <td>0.0</td>\n",
       "      <td>0.0</td>\n",
       "      <td>0.0</td>\n",
       "      <td>0.0</td>\n",
       "      <td>0.0</td>\n",
       "      <td>0.0</td>\n",
       "      <td>0.0</td>\n",
       "      <td>0.0</td>\n",
       "      <td>0.0</td>\n",
       "    </tr>\n",
       "  </tbody>\n",
       "</table>\n",
       "<p>3 rows × 18873 columns</p>\n",
       "</div>"
      ],
      "text/plain": [
       "   aaa  aaron  abandon  abandoned  abandoning  abbey  abbott  abc  abcs  \\\n",
       "0  0.0    0.0      0.0        0.0         0.0    0.0     0.0  0.0   0.0   \n",
       "1  0.0    0.0      0.0        0.0         0.0    0.0     0.0  0.0   0.0   \n",
       "2  0.0    0.0      0.0        0.0         0.0    0.0     0.0  0.0   0.0   \n",
       "\n",
       "   abdul   ...    zip  zoe  zombies  zone  zone discovering  zones  zoning  \\\n",
       "0    0.0   ...    0.0  0.0      0.0   0.0               0.0    0.0     0.0   \n",
       "1    0.0   ...    0.0  0.0      0.0   0.0               0.0    0.0     0.0   \n",
       "2    0.0   ...    0.0  0.0      0.0   0.0               0.0    0.0     0.0   \n",
       "\n",
       "   zoo  zuckerberg  zurich  \n",
       "0  0.0         0.0     0.0  \n",
       "1  0.0         0.0     0.0  \n",
       "2  0.0         0.0     0.0  \n",
       "\n",
       "[3 rows x 18873 columns]"
      ]
     },
     "execution_count": 27,
     "metadata": {},
     "output_type": "execute_result"
    }
   ],
   "source": [
    "X = pd.DataFrame(tfidf_vecs.todense(),\n",
    "             columns=tfidf.get_feature_names())\n",
    "X[:3]"
   ]
  },
  {
   "cell_type": "markdown",
   "metadata": {
    "deletable": true,
    "editable": true
   },
   "source": [
    "+ stop words (modified)\n",
    "- **min_df=20,  ngram_range=(1,2),  >20,000 columns **\n",
    "\n",
    "Can also do Count Vectorizer (how many words I have in doc)\n",
    "### play with Vectorizer methods"
   ]
  },
  {
   "cell_type": "code",
   "execution_count": 29,
   "metadata": {
    "collapsed": false,
    "deletable": true,
    "editable": true
   },
   "outputs": [],
   "source": [
    "#tfidf_vecs.check_format\n",
    "#tfidf.analyzer\n",
    "###''' i do this later anyway'''\n",
    "# features = list(tfidf.get_feature_names())\n",
    "# features[:5000:500]"
   ]
  },
  {
   "cell_type": "markdown",
   "metadata": {
    "deletable": true,
    "editable": true
   },
   "source": [
    "### LSA :   Dimension Reduction / Feature Extraction\n",
    "- tall skinny + short wide matrices\n",
    "#### Number of topics\n",
    "+ 50\n",
    "+ try 20/15"
   ]
  },
  {
   "cell_type": "code",
   "execution_count": 30,
   "metadata": {
    "collapsed": false,
    "deletable": true,
    "editable": true
   },
   "outputs": [],
   "source": [
    "'''\n",
    "pass the raw tfidf_vecs (not the dataframe to the LSA fransform )\n",
    "first param = Desired dimensionality of output data. Must be strictly less than the number of features. \n",
    "The default value is useful for visualisation. For LSA, a value of 100 is recommended\n",
    "\n",
    "\n",
    "try: 20 topics\n",
    "'''\n",
    "\n",
    "lsa = TruncatedSVD(20, algorithm = 'arpack')\n",
    "reduced_mat = lsa.fit_transform(tfidf_vecs)"
   ]
  },
  {
   "cell_type": "code",
   "execution_count": 31,
   "metadata": {
    "collapsed": true,
    "deletable": true,
    "editable": true
   },
   "outputs": [],
   "source": [
    "#It calculates the sum of squares for each row (the \"fit\" part) and \n",
    "## then divides each row by that amount (the \"transform\" part).  This just ensures that \n",
    "#each vector has a \"norm\" of 1\n",
    "## Vectors with a norm of 1 are easy to work with for calculating similarity.\n",
    "reduced_mat = Normalizer(copy=False).fit_transform(reduced_mat)"
   ]
  },
  {
   "cell_type": "code",
   "execution_count": 32,
   "metadata": {
    "collapsed": false,
    "deletable": true,
    "editable": true
   },
   "outputs": [
    {
     "data": {
      "text/plain": [
       "((6203, 18873), (6203, 20))"
      ]
     },
     "execution_count": 32,
     "metadata": {},
     "output_type": "execute_result"
    }
   ],
   "source": [
    "'''\n",
    "count_mat == tfidf_vecs\n",
    "'''\n",
    "#count_mat.shape, reduced_mat.shape\n",
    "\n",
    "tfidf_vecs.shape, reduced_mat.shape"
   ]
  },
  {
   "cell_type": "markdown",
   "metadata": {
    "deletable": true,
    "editable": true
   },
   "source": [
    "+ ** num documents** 5831 \n",
    "+ ** num features as words/tokens** 12835   (9950 (old: 10095)\n",
    "+ ** dimensionality of output data ** 15  "
   ]
  },
  {
   "cell_type": "markdown",
   "metadata": {
    "deletable": true,
    "editable": true
   },
   "source": [
    "## Explore the most important words in each topic / dimension"
   ]
  },
  {
   "cell_type": "code",
   "execution_count": 33,
   "metadata": {
    "collapsed": false,
    "deletable": true,
    "editable": true
   },
   "outputs": [
    {
     "data": {
      "text/plain": [
       "array([u'aaa', u'adorned', u'altered', u'anxious', u'ashton', u'avoidance',\n",
       "       u'beat goes', u'bland', u'brew', u'buying', u'caucuses',\n",
       "       u'children older', u'closing', u'companys chief', u'contact amie',\n",
       "       u'cover', u'damaged', u'degrees', u'dictators', u'disturbing'], \n",
       "      dtype='<U31')"
      ]
     },
     "execution_count": 33,
     "metadata": {},
     "output_type": "execute_result"
    }
   ],
   "source": [
    "terms = np.array(tfidf.get_feature_names())\n",
    "terms[:5000: 250]"
   ]
  },
  {
   "cell_type": "code",
   "execution_count": 34,
   "metadata": {
    "collapsed": true,
    "deletable": true,
    "editable": true
   },
   "outputs": [],
   "source": [
    "## This is a simple convenience function which gets the highest valued terms for each topic\n",
    "\"\"\"\n",
    "topic-mat is the LSA matrix (see above) lsa.components\n",
    "i, topic number\n",
    "term_vec: all the different column values (from vectorized matrix above)\n",
    "    we called this terms, it's all the terms extracted from the vectoriztion process\n",
    "    \n",
    "    argsort sorts vectors in acsending order the (- ...) minus, sorts it in descending order\n",
    "\"\"\"\n",
    "def get_topical_terms(topic_mat, topic_num, term_vec, num_terms=35):\n",
    "    return term_vec[np.argsort(-topic_mat[topic_num,:])][:num_terms]"
   ]
  },
  {
   "cell_type": "code",
   "execution_count": 35,
   "metadata": {
    "collapsed": false,
    "deletable": true,
    "editable": true,
    "scrolled": false
   },
   "outputs": [
    {
     "name": "stdout",
     "output_type": "stream",
     "text": [
      "topic 0\n",
      "[u'trump' u'people' u'clinton' u'music' u'company' u'american' u'show'\n",
      " u'state' u'work' u'world' u'president' u'sanders' u'states' u'city' u'get'\n",
      " u'may' u'way' u'campaign' u'cruz' u'back' u'republican' u'day' u'well'\n",
      " u'made' u'united' u'million' u'times' u'school' u'government' u'still'\n",
      " u'art' u'want' u'us' u'going' u'see']\n",
      "topic 1\n",
      "[u'trump' u'clinton' u'cruz' u'sanders' u'iowa' u'republican' u'campaign'\n",
      " u'senator' u'voters' u'rubio' u'republicans' u'obama' u'candidates'\n",
      " u'president' u'democratic' u'hillary' u'debate' u'hampshire'\n",
      " u'presidential' u'party' u'candidate' u'bush' u'political' u'caucuses'\n",
      " u'state' u'democrats' u'hillary clinton' u'election' u'polls' u'primary'\n",
      " u'states' u'vote' u'support' u'gun' u'tax']\n",
      "topic 2\n",
      "[u'company' u'billion' u'apple' u'government' u'china' u'financial'\n",
      " u'investors' u'data' u'market' u'tech' u'united' u'growth' u'million'\n",
      " u'technology' u'bank' u'united states' u'business' u'economy' u'stock'\n",
      " u'nyt' u'chief' u'european' u'chinese' u'states' u'economic' u'money'\n",
      " u'deal' u'google' u'oil' u'executive' u'investment' u'federal' u'reports'\n",
      " u'software' u'capital']\n",
      "topic 3\n",
      "[u'game' u'points' u'season' u'scored' u'team' u'games' u'players' u'coach'\n",
      " u'scored points' u'league' u'teams' u'win' u'tournament' u'second'\n",
      " u'rebounds' u'beat' u'play' u'player' u'victory' u'football' u'basketball'\n",
      " u'seeded' u'conference' u'championship' u'lead' u'final'\n",
      " u'points rebounds' u'sports' u'home' u'played' u'straight' u'seconds'\n",
      " u'career' u'point' u'top']\n",
      "topic 4\n",
      "[u'article' u'misstated' u'nytimes' u'points' u'mailed' u'incorrectly'\n",
      " u'game' u'misidentified' u'scored' u'error' u'editions' u'comments'\n",
      " u'referred incorrectly' u'season' u'editing error' u'referred' u'caption'\n",
      " u'editing' u'sunday' u'scored points' u'correction' u'team'\n",
      " u'picture caption' u'games' u'sports' u'misspelled' u'obituary' u'picture'\n",
      " u'article sunday' u'errors' u'may mailed' u'comments suggestions'\n",
      " u'nytimes newspaper' u'welcomes comments' u'suggestions complaints']\n",
      "topic 5\n",
      "[u'points' u'museum' u'scored' u'saturdays' u'sundays' u'art' u'avenue'\n",
      " u'scored points' u'noon' u'april' u'fridays' u'exhibition' u'game' u'free'\n",
      " u'gallery' u'june' u'march' u'july' u'road' u'center' u'thursdays'\n",
      " u'tuesdays' u'saturdays sundays' u'feb' u'sundays noon'\n",
      " u'fridays saturdays' u'games' u'clinton' u'season' u'rebounds' u'jan'\n",
      " u'win' u'mondays' u'wednesdays' u'state']\n",
      "topic 6\n",
      "[u'clinton' u'sanders' u'gun' u'democratic' u'hillary' u'campaign'\n",
      " u'senator sanders' u'obama' u'hillary clinton' u'vermont' u'health'\n",
      " u'clinton campaign' u'black' u'bill' u'sanders vermont' u'gun control'\n",
      " u'democrats' u'secretary' u'sanders campaign' u'president' u'omalley'\n",
      " u'people' u'white' u'state' u'bill clinton' u'guns' u'obamas' u'wall'\n",
      " u'plan' u'ad' u'senator' u'americans' u'white house' u'young'\n",
      " u'progressive']\n",
      "topic 7\n",
      "[u'students' u'school' u'today' u'museum' u'city' u'briefing' u'us'\n",
      " u'university' u'nytoday' u'art' u'people' u'police' u'island' u'free'\n",
      " u'college' u'children' u'athletes' u'park' u'see' u'heres' u'schools'\n",
      " u'law' u'obama' u'staten' u'day' u'president' u'staten island' u'state'\n",
      " u'government' u'morning' u'sports' u'times' u'ferry' u'water' u'subway']\n",
      "topic 8\n",
      "[u'apple' u'company' u'app' u'google' u'tech' u'facebook' u'iphone'\n",
      " u'software' u'twitter' u'iowa' u'cruz' u'windows' u'data' u'sanders'\n",
      " u'technology' u'nytoday' u'apps' u'microsoft' u'today' u'devices' u'users'\n",
      " u'clinton' u'times' u'free' u'park' u'android' u'phone' u'island'\n",
      " u'mobile' u'amazon' u'computer' u'staten' u'day' u'email' u'staten island']\n",
      "topic 9\n",
      "[u'today' u'nytoday' u'briefing' u'brooklyn' u'city' u'times' u'island'\n",
      " u'morning' u'staten' u'staten island' u'heres' u'park' u'ferry'\n",
      " u'saturday' u'subway' u'queens' u'music' u'sunday' u'friday' u'via'\n",
      " u'happening' u'day' u'us' u'email' u'timess' u'west' u'msg' u'transit'\n",
      " u'host' u'thursday' u'police' u'manhattan' u'east' u'twitter' u'yankees']\n",
      "topic 10\n",
      "[u'apple' u'music' u'law' u'court' u'government' u'security' u'iphone'\n",
      " u'orchestra' u'obama' u'encryption' u'officials' u'gun' u'justice'\n",
      " u'briefing' u'privacy' u'president' u'case' u'law enforcement'\n",
      " u'enforcement' u'opera' u'russian' u'state' u'doping' u'album' u'symphony'\n",
      " u'athletes' u'judge' u'police' u'bernardino' u'san bernardino' u'russia'\n",
      " u'federal' u'data' u'hall' u'composer']\n",
      "topic 11\n",
      "[u'theater' u'theater west' u'west' u'apple' u'show' u'broadway'\n",
      " u'brantley' u'musical' u'soloski' u'points' u'government' u'isherwood'\n",
      " u'iphone' u'previews' u'security' u'sunday' u'production' u'telecharge'\n",
      " u'play' u'directed' u'obama' u'cast' u'west telecharge' u'movie' u'scored'\n",
      " u'previews opens' u'european' u'adaptation' u'comedy' u'app' u'saturday'\n",
      " u'google' u'trump' u'opens' u'drama']\n",
      "topic 12\n",
      "[u'theater' u'school' u'cruz' u'theater west' u'students' u'west'\n",
      " u'university' u'college' u'company' u'law' u'family' u'broadway' u'father'\n",
      " u'graduated' u'athletes' u'sports' u'brantley' u'soloski' u'musical'\n",
      " u'team' u'mother' u'iowa' u'high school' u'schools' u'daughter' u'board'\n",
      " u'son' u'football' u'children' u'received' u'manhattan' u'firm' u'nyt'\n",
      " u'players' u'isherwood']\n",
      "topic 13\n",
      "[u'points' u'scored' u'scored points' u'students' u'school' u'rebounds'\n",
      " u'university' u'law' u'points rebounds' u'state' u'graduated' u'schools'\n",
      " u'virginia' u'college' u'education' u'high' u'texas' u'tech' u'mother'\n",
      " u'father' u'high points' u'professor' u'visiting' u'family' u'host'\n",
      " u'home' u'added points' u'city' u'career high' u'assists' u'degree'\n",
      " u'seconds' u'conference' u'daughter' u'son']\n",
      "topic 14\n",
      "[u'trump' u'orchestra' u'opera' u'ballet' u'symphony' u'season' u'players'\n",
      " u'students' u'trade' u'tax' u'philharmonic' u'dance' u'jobs' u'mets'\n",
      " u'music' u'team' u'workers' u'concerto' u'composer' u'work' u'windows'\n",
      " u'economic' u'ensemble' u'apple' u'music director' u'growth' u'app'\n",
      " u'league' u'composers' u'premiere' u'saturday' u'economy' u'conductor'\n",
      " u'carnegie' u'performances']\n",
      "topic 15\n",
      "[u'cruz' u'museum' u'art' u'iowa' u'exhibition' u'european' u'doping'\n",
      " u'artists' u'russian' u'athletes' u'tour' u'saturday' u'sunday'\n",
      " u'brooklyn' u'russia' u'collection' u'museums' u'artist' u'moma' u'rubio'\n",
      " u'space' u'design' u'united' u'world' u'event' u'includes' u'painting'\n",
      " u'olympic' u'open' u'points' u'olympics' u'objects' u'include' u'french'\n",
      " u'johnson']\n",
      "topic 16\n",
      "[u'cruz' u'iowa' u'rubio' u'theater' u'jan' u'album' u'athletes'\n",
      " u'theater west' u'economy' u'bus tour' u'day town' u'doping' u'town swing'\n",
      " u'saturdays' u'growth' u'swing iowa' u'event jan' u'faces culinary'\n",
      " u'jan place' u'iowa population' u'places faces' u'cruz day' u'bus'\n",
      " u'proper bus' u'tour event' u'population site' u'students' u'musical'\n",
      " u'culinary' u'band' u'free' u'senator' u'population' u'swing'\n",
      " u'highlight cruz']\n",
      "topic 17\n",
      "[u'trump' u'album' u'athletes' u'doping' u'students' u'band' u'russian'\n",
      " u'songs' u'clinton' u'school' u'song' u'olympic' u'olympics' u'russia'\n",
      " u'sanders' u'west' u'rio' u'track' u'brooklyn' u'pop' u'rock' u'china'\n",
      " u'pic twitter' u'albums' u'pic' u'twitter' u'singer' u'sports'\n",
      " u'university' u'released' u'jazz' u'united' u'united states' u'anderson'\n",
      " u'wada']\n",
      "topic 18\n",
      "[u'pic twitter' u'pic' u'twitter' u'doping' u'russian' u'ballet'\n",
      " u'athletes' u'points' u'https co' u'https' u'russia' u'opera'\n",
      " u'scored points' u'european' u'scored' u'sanders' u'orchestra' u'women'\n",
      " u'dance' u'co' u'russias' u'olympic' u'olympics' u'iowa' u'dancers'\n",
      " u'world' u'wada' u'people' u'meldonium' u'symphony' u'company'\n",
      " u'track field' u'rio' u'saturdays' u'britain']\n",
      "topic 19\n",
      "[u'pic twitter' u'pic' u'twitter' u'https co' u'https' u'co' u'rubio'\n",
      " u'gun' u'album' u'bush' u'party' u'republican' u'republicans' u'political'\n",
      " u'christie' u'obama' u'league' u'kasich' u'gov' u'sunday' u'museum'\n",
      " u'million' u'game' u'super' u'voters' u'brooklyn' u'vote' u'tax' u'law'\n",
      " u'senate' u'congress' u'senator' u'brexit' u'election' u'exhibition']\n"
     ]
    }
   ],
   "source": [
    "## Print the highest valued terms for each of the first 10 topics\n",
    "'''\n",
    "topic 0 is the strongest topic/ has highest eigenvectors\n",
    "\n",
    "lsa.components_  // short wide matrix of giving a weight to each word within each topic\n",
    "'''\n",
    "for i in range(20):\n",
    "    print(\"topic {}\".format(i))\n",
    "    print(get_topical_terms(lsa.components_,i,terms, 35))\n",
    "\n"
   ]
  },
  {
   "cell_type": "code",
   "execution_count": null,
   "metadata": {
    "collapsed": true,
    "deletable": true,
    "editable": true
   },
   "outputs": [],
   "source": []
  },
  {
   "cell_type": "code",
   "execution_count": 70,
   "metadata": {
    "collapsed": false,
    "deletable": true,
    "editable": true
   },
   "outputs": [],
   "source": [
    "# terms_names = ['government', 'election--primaries','art & culture','business& technology','Democrat news',\n",
    "#                'national security','europe & economics','university sports', 'sports',\n",
    "#                'international finance /china','Music&Entertainment', 'TPP and trade','Sunday edition (summary)',\n",
    "#                'climate & energy','party politics','Republican news','White house news',\n",
    "# 'Justice department','Education','Smart Phones']\n",
    "\n",
    "# terms_names = [ 'arts & culture ' , 'politics', 'election-primaries', 'city &events', \n",
    "#  'live music: symphony& jazz' ,'politics: Democratic party', 'NYC news',\n",
    "# 'theater & broadway', 'tech&mobile apps', 'NYT editorials', 'music news',\n",
    "# 'museums & exhibitions', 'sports', 'economy' , 'education', 'dance', 'election— campaigning',\n",
    "#                 'movies', 'election issues' ]\n",
    "\n",
    "terms_names = ['Politics', 'Election primaries', 'Business&Economy', 'Sports', \n",
    "               'NYT editorials&comments', \"Events in NYC\", #5\n",
    "               \"Democrats News\", 'Education', 'Tech News ',#8\n",
    "               \"NYC local\", \"Justice department\",'Theater&Broadway', #11\n",
    "                \"Higher Education\" , \"University sports\",\"Music\", #14\n",
    "               \"Museums&Art\", 'Republican News','Olympics 2016',#17\n",
    "               \"Trends on twitter\", 'Election 2016'            \n",
    "              ]"
   ]
  },
  {
   "cell_type": "code",
   "execution_count": 36,
   "metadata": {
    "collapsed": false,
    "deletable": true,
    "editable": true
   },
   "outputs": [
    {
     "data": {
      "text/plain": [
       "[<matplotlib.lines.Line2D at 0x10c5eab90>]"
      ]
     },
     "execution_count": 36,
     "metadata": {},
     "output_type": "execute_result"
    },
    {
     "data": {
      "image/png": "[encoded data removed]",
      "text/plain": [
       "<matplotlib.figure.Figure at 0x131a65fd0>"
      ]
     },
     "metadata": {},
     "output_type": "display_data"
    }
   ],
   "source": [
    "lsa.components_.shape # short and wide matrix\n",
    "#lsa.components_\n",
    "#reduced_mat\n",
    "#pd.DataaFrame(lsa.components_)\n",
    "# output: 50 rows × 10095 columns\n",
    "plt.figure(figsize=(12,5))\n",
    "plt.plot(lsa.explained_variance_ratio_, color='green',marker = '+')#,'r+')"
   ]
  },
  {
   "cell_type": "markdown",
   "metadata": {
    "deletable": true,
    "editable": true
   },
   "source": [
    "## Explore which documents are similar to which others"
   ]
  },
  {
   "cell_type": "code",
   "execution_count": null,
   "metadata": {
    "collapsed": false,
    "deletable": true,
    "editable": true
   },
   "outputs": [],
   "source": [
    "reduced_mat.shape"
   ]
  },
  {
   "cell_type": "code",
   "execution_count": 37,
   "metadata": {
    "collapsed": false,
    "deletable": true,
    "editable": true
   },
   "outputs": [
    {
     "name": "stdout",
     "output_type": "stream",
     "text": [
      "the loading took 1 seconds \n"
     ]
    }
   ],
   "source": [
    "# might take a while\n",
    "start = dt.datetime.now()\n",
    "#print ('test')\n",
    "sim_mat = np.dot(reduced_mat, reduced_mat.T)\n",
    "\n",
    "print \"the loading took {} seconds \".format((dt.datetime.now()-start).seconds)\n",
    "#sim_mat.shape\n",
    "#get_similar_docs(reduced_mat[2535,:],reduced_mat)\n",
    "#get_similar_docs(reduced_mat[123,:],reduced_mat)"
   ]
  },
  {
   "cell_type": "markdown",
   "metadata": {
    "deletable": true,
    "editable": true
   },
   "source": [
    "## Test the holdout set\n",
    "1. use vectorizer tfidf, to 'transform' the holdout set, you don't wanna fit_transform here\n"
   ]
  },
  {
   "cell_type": "code",
   "execution_count": 39,
   "metadata": {
    "collapsed": false,
    "deletable": true,
    "editable": true
   },
   "outputs": [],
   "source": [
    "#df.article[63][:500]"
   ]
  },
  {
   "cell_type": "code",
   "execution_count": null,
   "metadata": {
    "collapsed": false,
    "deletable": true,
    "editable": true
   },
   "outputs": [],
   "source": [
    "# #NOTE: below we just use \"transform\" not \"fit_transform\"\n",
    "# tfidf_vec_test = tfidf.transform(df_test.article)\n",
    "# reduced_mat_test = lsa.transform(tfidf_vec_test)\n",
    "\n",
    "\n",
    "# # For the Normalizer, we do a fit_transform, because this is just a division by a constant of each row\n",
    "# reduced_mat_test = Normalizer(copy=False).fit_transform(reduced_mat_test)"
   ]
  },
  {
   "cell_type": "code",
   "execution_count": 51,
   "metadata": {
    "collapsed": false,
    "deletable": true,
    "editable": true
   },
   "outputs": [
    {
     "data": {
      "text/plain": [
       "(6203, 20)"
      ]
     },
     "execution_count": 51,
     "metadata": {},
     "output_type": "execute_result"
    }
   ],
   "source": [
    "reduced_mat.shape"
   ]
  },
  {
   "cell_type": "code",
   "execution_count": null,
   "metadata": {
    "collapsed": false,
    "deletable": true,
    "editable": true
   },
   "outputs": [],
   "source": [
    "reduced_mat_test[1]"
   ]
  },
  {
   "cell_type": "code",
   "execution_count": null,
   "metadata": {
    "collapsed": false,
    "deletable": true,
    "editable": true
   },
   "outputs": [],
   "source": [
    "len(reduced_mat_test)"
   ]
  },
  {
   "cell_type": "code",
   "execution_count": 41,
   "metadata": {
    "collapsed": false,
    "deletable": true,
    "editable": true
   },
   "outputs": [],
   "source": [
    "''' generate a random article from holdout\n",
    "    but not from the dataframe, do it from \n",
    "     choose the Transformed, Normalized vector matrix:reduce_mat_test '''\n",
    "def gen_article(df):\n",
    "    num = np.random.choice(len(df))\n",
    "    return num, df[num]"
   ]
  },
  {
   "cell_type": "code",
   "execution_count": 42,
   "metadata": {
    "collapsed": true,
    "deletable": true,
    "editable": true
   },
   "outputs": [],
   "source": [
    "## This is a simple convenience function - given one vector representation of a document and \n",
    "## the representation of a corpus, return the (indices of) the most similar documents\n",
    "'''\n",
    "give me a vector that represetns a single document, give me a corpus (matrix of other do)\n",
    "'''\n",
    "def get_similar_docs(target_vec, corpus_vecs, num_res=5):\n",
    "    sim_scores = np.dot(target_vec, corpus_vecs.T)\n",
    "    return np.argsort(-sim_scores)[:num_res]"
   ]
  },
  {
   "cell_type": "code",
   "execution_count": null,
   "metadata": {
    "collapsed": false,
    "deletable": true,
    "editable": true
   },
   "outputs": [],
   "source": [
    "\n",
    "which_article, choice_reduced_test = gen_article(reduced_mat_test)"
   ]
  },
  {
   "cell_type": "code",
   "execution_count": null,
   "metadata": {
    "collapsed": false,
    "deletable": true,
    "editable": true,
    "scrolled": true
   },
   "outputs": [],
   "source": [
    "# test similarity (on randomly generated holdout set)\n",
    "\n",
    "get_similar_docs(choice_reduced_test, reduced_mat)"
   ]
  },
  {
   "cell_type": "code",
   "execution_count": null,
   "metadata": {
    "collapsed": false,
    "deletable": true,
    "editable": true
   },
   "outputs": [],
   "source": [
    "df_test.locwhich_article\n",
    "which_article\n"
   ]
  },
  {
   "cell_type": "code",
   "execution_count": 52,
   "metadata": {
    "collapsed": false,
    "deletable": true,
    "editable": true
   },
   "outputs": [],
   "source": [
    "''' generate article from holdout AND print out 5 most pertinent articles\n",
    "    'input' - \n",
    "    choice_vec_matrix :: data from which to generate choice article\n",
    "                                 - can be holdout set\n",
    "                                 - can be from a particular section of main set\n",
    "    data_set :: whatever the data is \n",
    "\n",
    "'''\n",
    "def print_recommended(choice_vec_matrix, data_set):\n",
    "    ## randomly generate article from holdout\n",
    "    ## get index of DF, and choice_test is the vector matrix\n",
    "    num_test, choice_test = gen_article(choice_vec_matrix)\n",
    "    array_five = get_similar_docs(choice_test, reduced_mat)\n",
    "    #print array_five\n",
    "    #snip = []\n",
    "    #title = []\n",
    "    \n",
    "    print \" num_test, choice+test\", num_test\n",
    "    print \" chosen article: \", data_set.iloc[num_test, :]['headline'][:] , \"\\n\"\n",
    "    #print \" array \", array_five\n",
    "    for a in array_five[1:]:\n",
    "        #print \"a is \", a\n",
    "        snip =  df.iloc[a,:]['article'][:500] \n",
    "        title =  df.iloc[a,:]['headline'][:500] \n",
    "        print \"\\t\", title\n",
    "        print snip , '\\n'\n",
    "   # print \"\\n\".join(title)"
   ]
  },
  {
   "cell_type": "code",
   "execution_count": null,
   "metadata": {
    "collapsed": false,
    "deletable": true,
    "editable": true
   },
   "outputs": [],
   "source": [
    "# generate article from holdout set :: test against whole corpu\n",
    "print_recommended(reduced_mat_test, df_test)"
   ]
  },
  {
   "cell_type": "code",
   "execution_count": null,
   "metadata": {
    "collapsed": false,
    "deletable": true,
    "editable": true
   },
   "outputs": [],
   "source": [
    "df.iloc[5830,:]['article'][:500]"
   ]
  },
  {
   "cell_type": "code",
   "execution_count": null,
   "metadata": {
    "collapsed": false,
    "deletable": true,
    "editable": true
   },
   "outputs": [],
   "source": [
    "df_test.iloc[which_article,:]['article'][:500]\n"
   ]
  },
  {
   "cell_type": "code",
   "execution_count": 48,
   "metadata": {
    "collapsed": false,
    "deletable": true,
    "editable": true,
    "scrolled": true
   },
   "outputs": [
    {
     "name": "stdout",
     "output_type": "stream",
     "text": [
      "index \t Title \n",
      "\n",
      "5519 \tN.F.L. Owners to Weigh Rule Changes\n",
      "1099 \tA Star Who Gave the Mets a Jolt, and Not Just at the Plate \n",
      "3331 \tNew York Today: Respect the Paw\n"
     ]
    },
    {
     "data": {
      "text/plain": [
       "[5519, 1099, 3331]"
      ]
     },
     "execution_count": 48,
     "metadata": {},
     "output_type": "execute_result"
    }
   ],
   "source": [
    "#gen_multiple(df, 3)"
   ]
  },
  {
   "cell_type": "code",
   "execution_count": null,
   "metadata": {
    "collapsed": false,
    "deletable": true,
    "editable": true,
    "scrolled": true
   },
   "outputs": [],
   "source": [
    "# for i in range(5):\n",
    "#     print(\"topic {}\".format(i))\n",
    "#     print(get_topical_terms(lsa.components_,i,terms, 35))"
   ]
  },
  {
   "cell_type": "code",
   "execution_count": null,
   "metadata": {
    "collapsed": false,
    "deletable": true,
    "editable": true
   },
   "outputs": [],
   "source": [
    "#topics go from 0-50\n",
    "#get_topical_terms(lsa.components_,num_ix,terms)\n",
    "\n",
    "''' \n",
    "get the index of the max value\n",
    "'''\n",
    "topic_ix = reduced_mat[num_ix].argmax(axis=0)\n",
    "topic_ix# 50x1 .shape\n",
    "tmp = pd.Series(reduced_mat[num_ix])\n",
    "tmp.sort_values(ascending=False)[:5]"
   ]
  },
  {
   "cell_type": "code",
   "execution_count": 60,
   "metadata": {
    "collapsed": false,
    "deletable": true,
    "editable": true
   },
   "outputs": [
    {
     "data": {
      "text/plain": [
       "array([u'trump', u'people', u'clinton', u'music', u'company', u'american',\n",
       "       u'show', u'state', u'work', u'world', u'president', u'sanders',\n",
       "       u'states', u'city', u'get', u'may', u'way', u'campaign', u'cruz',\n",
       "       u'back', u'republican', u'day', u'well', u'made', u'united'], \n",
       "      dtype='<U31')"
      ]
     },
     "execution_count": 60,
     "metadata": {},
     "output_type": "execute_result"
    }
   ],
   "source": [
    "get_topical_terms(lsa.components_,0,terms, 25)"
   ]
  },
  {
   "cell_type": "markdown",
   "metadata": {
    "deletable": true,
    "editable": true
   },
   "source": [
    "# User input Functions"
   ]
  },
  {
   "cell_type": "code",
   "execution_count": 53,
   "metadata": {
    "collapsed": false,
    "deletable": true,
    "editable": true
   },
   "outputs": [],
   "source": [
    "def gen_article(df):\n",
    "    num = np.random.choice(len(df))\n",
    "    return num, df[num]"
   ]
  },
  {
   "cell_type": "code",
   "execution_count": 54,
   "metadata": {
    "collapsed": false,
    "deletable": true,
    "editable": true
   },
   "outputs": [],
   "source": [
    "def gen_multiple(df, how_many):\n",
    "    num = [np.random.choice(len(df)) for a in range(how_many) ]\n",
    "    titles = [ df.iloc[a,:]['headline'][:500] for a in num]\n",
    "    \n",
    "    print (\"index \\t Title \\n\")\n",
    "    for a in range(len(titles)):\n",
    "        print num[a], '\\t', titles[a]\n",
    "    return num "
   ]
  },
  {
   "cell_type": "markdown",
   "metadata": {
    "deletable": true,
    "editable": true
   },
   "source": [
    "### get topic for doc_vector"
   ]
  },
  {
   "cell_type": "code",
   "execution_count": 61,
   "metadata": {
    "collapsed": true,
    "deletable": true,
    "editable": true
   },
   "outputs": [],
   "source": [
    "terms = np.array(tfidf.get_feature_names())"
   ]
  },
  {
   "cell_type": "code",
   "execution_count": 57,
   "metadata": {
    "collapsed": true,
    "deletable": true,
    "editable": true
   },
   "outputs": [],
   "source": [
    "def get_topical_terms(topic_mat, topic_num, term_vec, num_terms=25):\n",
    "    return term_vec[np.argsort(-topic_mat[topic_num,:])][:num_terms]"
   ]
  },
  {
   "cell_type": "code",
   "execution_count": 62,
   "metadata": {
    "collapsed": false,
    "deletable": true,
    "editable": true
   },
   "outputs": [],
   "source": [
    "def get_recommended(data_set, num_ix):\n",
    "    ''' \n",
    "    assumes using reduced_mat vector matrix (and that's ok)\n",
    "    '''\n",
    "    \n",
    "    #num_test, choice_test = gen_article(choice_vec_matrix)\n",
    "    choice_test = reduced_mat[num_ix]\n",
    "    \n",
    "    array_five = get_similar_docs(choice_test, reduced_mat)\n",
    "    #snip = []\n",
    "    #title = []\n",
    "\n",
    "    print \" chosen article: \", data_set.iloc[num_ix, :]['headline'][:] , \"\\n\"\n",
    "   # print array_five #print \" array \", array_five\n",
    "    choice = ['a', 'b', 'c']\n",
    "    \n",
    "    for a in array_five[1:]:\n",
    "        #print \"a is \", a\n",
    "        title =  df.iloc[a,:]['headline'][:500] \n",
    "        print a, \"\\t\", title\n",
    "        #print snip , '\\n'\n",
    "        \n",
    "    #let's return the terms for this \n",
    "    ################# store doc_vector ###############\n",
    "    # use num_ix to access the DOCUMENT In Tall skinny matrix\n",
    "    asd = reduced_mat[num_ix,:]\n",
    "    # 5 most common topics in this document\n",
    "    topic_list = np.argsort(-asd)[:5]\n",
    "    names_list = [terms_names[a] for a in topic_list]\n",
    "    \n",
    "    return names_list"
   ]
  },
  {
   "cell_type": "code",
   "execution_count": 63,
   "metadata": {
    "collapsed": false,
    "deletable": true,
    "editable": true
   },
   "outputs": [],
   "source": [
    "#for name in terms_names:\n",
    " #   tmp_list.count('government')\n",
    "\n",
    "def interest_dict(l):\n",
    "    tmp_list = [item for sublist in l for item in sublist]   \n",
    "    interests = { name : tmp_list.count(name)  for name in terms_names}\n",
    "    return interests"
   ]
  },
  {
   "cell_type": "code",
   "execution_count": null,
   "metadata": {
    "collapsed": true,
    "deletable": true,
    "editable": true
   },
   "outputs": [],
   "source": []
  },
  {
   "cell_type": "code",
   "execution_count": null,
   "metadata": {
    "collapsed": true,
    "deletable": true,
    "editable": true
   },
   "outputs": [],
   "source": []
  },
  {
   "cell_type": "code",
   "execution_count": null,
   "metadata": {
    "collapsed": true,
    "deletable": true,
    "editable": true
   },
   "outputs": [],
   "source": []
  },
  {
   "cell_type": "code",
   "execution_count": null,
   "metadata": {
    "collapsed": true,
    "deletable": true,
    "editable": true
   },
   "outputs": [],
   "source": []
  },
  {
   "cell_type": "code",
   "execution_count": null,
   "metadata": {
    "collapsed": true,
    "deletable": true,
    "editable": true
   },
   "outputs": [],
   "source": []
  },
  {
   "cell_type": "code",
   "execution_count": null,
   "metadata": {
    "collapsed": true,
    "deletable": true,
    "editable": true
   },
   "outputs": [],
   "source": []
  },
  {
   "cell_type": "code",
   "execution_count": null,
   "metadata": {
    "collapsed": true,
    "deletable": true,
    "editable": true
   },
   "outputs": [],
   "source": []
  },
  {
   "cell_type": "code",
   "execution_count": null,
   "metadata": {
    "collapsed": true,
    "deletable": true,
    "editable": true
   },
   "outputs": [],
   "source": []
  },
  {
   "cell_type": "markdown",
   "metadata": {
    "deletable": true,
    "editable": true
   },
   "source": [
    "## user input"
   ]
  },
  {
   "cell_type": "code",
   "execution_count": 109,
   "metadata": {
    "collapsed": false
   },
   "outputs": [
    {
     "name": "stdout",
     "output_type": "stream",
     "text": [
      " \n",
      " WHAT DO YOU WANT TO READ? (please input index)\n",
      "index \t Title \n",
      "\n",
      "921 \tFive or Six Things I Didn’t Know About Brad Pitt, by Marlon James\n",
      "588 \tMorning Agenda: Founder of Gawker Suspects Lawsuits Have a Common Financer\n",
      "6029 \tLeBron James Says He’ll Be ‘Much Better’ in Game 3. The Cavs Need Him to Be.\n",
      "588\n",
      " chosen article:  Morning Agenda: Founder of Gawker Suspects Lawsuits Have a Common Financer \n",
      "\n",
      "332 \tMorning Agenda: Valeant Losses Drag Ackman Hedge Fund Down\n",
      "5992 \tMorning Agenda: The Struggles of Today&#8217;s Sumner Redstone\n",
      "2672 \tMorning Agenda: New Limits on Bankers&#8217; Pay\n",
      "2533 \tMorning Agenda: Alaska Airlines to Buy Virgin America\n",
      " \n",
      " WHAT DO YOU WANT TO READ? (please input index)\n",
      "332\n",
      " chosen article:  Morning Agenda: Valeant Losses Drag Ackman Hedge Fund Down \n",
      "\n",
      "2672 \tMorning Agenda: New Limits on Bankers&#8217; Pay\n",
      "5992 \tMorning Agenda: The Struggles of Today&#8217;s Sumner Redstone\n",
      "2561 \tMorning Agenda: Megamergers Face Increasing Challenges in U.S.\n",
      "2759 \tMorning Agenda: Pulte Founder Pitted Against the Board\n",
      " \n",
      " WHAT DO YOU WANT TO READ? (please input index)\n",
      "2672\n",
      " chosen article:  Morning Agenda: New Limits on Bankers&#8217; Pay \n",
      "\n",
      "332 \tMorning Agenda: Valeant Losses Drag Ackman Hedge Fund Down\n",
      "2092 \tMorning Agenda: ChemChina Makes $43 Billion Offer for Syngenta\n",
      "2698 \tMorning Agenda: Bill Gross on Beating Pimco\n",
      "588 \tMorning Agenda: Founder of Gawker Suspects Lawsuits Have a Common Financer\n",
      "\n",
      "Business&Economy           3\n",
      "Politics                   3\n",
      "Events in NYC              3\n",
      "Higher Education           3\n",
      "NYC local                  3\n",
      "Museums&Art                0\n",
      "Democrats News             0\n",
      "Education                  0\n",
      "Election 2016              0\n",
      "Election primaries         0\n",
      "Justice department         0\n",
      "University sports          0\n",
      "Trends on twitter          0\n",
      "NYT editorials&comments    0\n",
      "Olympics 2016              0\n",
      "Republican News            0\n",
      "Sports                     0\n",
      "Tech News                  0\n",
      "Theater&Broadway           0\n",
      "Music                      0\n",
      "dtype: int64 \n",
      "\n"
     ]
    }
   ],
   "source": [
    "user_profile_app()\n"
   ]
  },
  {
   "cell_type": "code",
   "execution_count": null,
   "metadata": {
    "collapsed": true
   },
   "outputs": [],
   "source": []
  },
  {
   "cell_type": "code",
   "execution_count": null,
   "metadata": {
    "collapsed": true
   },
   "outputs": [],
   "source": []
  },
  {
   "cell_type": "code",
   "execution_count": null,
   "metadata": {
    "collapsed": true
   },
   "outputs": [],
   "source": []
  },
  {
   "cell_type": "code",
   "execution_count": null,
   "metadata": {
    "collapsed": true
   },
   "outputs": [],
   "source": []
  },
  {
   "cell_type": "code",
   "execution_count": null,
   "metadata": {
    "collapsed": true
   },
   "outputs": [],
   "source": []
  },
  {
   "cell_type": "code",
   "execution_count": null,
   "metadata": {
    "collapsed": true
   },
   "outputs": [],
   "source": []
  },
  {
   "cell_type": "code",
   "execution_count": null,
   "metadata": {
    "collapsed": true
   },
   "outputs": [],
   "source": []
  },
  {
   "cell_type": "code",
   "execution_count": null,
   "metadata": {
    "collapsed": true
   },
   "outputs": [],
   "source": []
  },
  {
   "cell_type": "code",
   "execution_count": null,
   "metadata": {
    "collapsed": true
   },
   "outputs": [],
   "source": []
  },
  {
   "cell_type": "code",
   "execution_count": null,
   "metadata": {
    "collapsed": true
   },
   "outputs": [],
   "source": []
  },
  {
   "cell_type": "code",
   "execution_count": null,
   "metadata": {
    "collapsed": true
   },
   "outputs": [],
   "source": []
  },
  {
   "cell_type": "code",
   "execution_count": null,
   "metadata": {
    "collapsed": true
   },
   "outputs": [],
   "source": []
  },
  {
   "cell_type": "code",
   "execution_count": null,
   "metadata": {
    "collapsed": true
   },
   "outputs": [],
   "source": []
  },
  {
   "cell_type": "code",
   "execution_count": null,
   "metadata": {
    "collapsed": true
   },
   "outputs": [],
   "source": []
  },
  {
   "cell_type": "code",
   "execution_count": null,
   "metadata": {
    "collapsed": true
   },
   "outputs": [],
   "source": []
  },
  {
   "cell_type": "code",
   "execution_count": 108,
   "metadata": {
    "collapsed": false,
    "deletable": true,
    "editable": true
   },
   "outputs": [],
   "source": [
    "def user_profile_app():\n",
    "    doc_vector =[]\n",
    "    counter=0\n",
    "\n",
    "    while (counter <3):\n",
    "        print \" \\n WHAT DO YOU WANT TO READ? (please input index)\"\n",
    "\n",
    "        if counter == 0: gen_multiple(df, 3)\n",
    "        num_ix = input()\n",
    "\n",
    "        topics =  get_recommended(df, num_ix)\n",
    "        doc_vector.append(topics)\n",
    "\n",
    "        #print (\"your interests are: \", doc_vector)\n",
    "        counter+=1\n",
    "        \n",
    "    interest = interest_dict(doc_vector)\n",
    "    \n",
    "    #print interest \n",
    "    print '\\n', pd.Series(interest).sort_values(ascending=False) , '\\n'"
   ]
  },
  {
   "cell_type": "code",
   "execution_count": null,
   "metadata": {
    "collapsed": false,
    "deletable": true,
    "editable": true
   },
   "outputs": [],
   "source": [
    "pd.DataFrame(interest, columns = )"
   ]
  },
  {
   "cell_type": "code",
   "execution_count": 105,
   "metadata": {
    "collapsed": false,
    "deletable": true,
    "editable": true
   },
   "outputs": [
    {
     "data": {
      "text/plain": [
       "{'Business&Economy': 0.6,\n",
       " 'Democrats News': 0,\n",
       " 'Education': 1.0,\n",
       " 'Election 2016': 0,\n",
       " 'Election primaries': 0.4,\n",
       " 'Events in NYC': 0,\n",
       " 'Higher Education': 0,\n",
       " 'Justice department': 1.0,\n",
       " 'Museums&Art': 0.1,\n",
       " 'Music': 0,\n",
       " 'NYC local': 0.2,\n",
       " 'NYT editorials&comments': 0,\n",
       " 'Olympics 2016': 0,\n",
       " 'Politics': 1.0,\n",
       " 'Republican News': 0,\n",
       " 'Sports': 0,\n",
       " 'Tech News ': 0,\n",
       " 'Theater&Broadway': 0.7,\n",
       " 'Trends on twitter': 0,\n",
       " 'University sports': 0}"
      ]
     },
     "execution_count": 105,
     "metadata": {},
     "output_type": "execute_result"
    }
   ],
   "source": [
    "{'NYT editorials&comments': 0, 'Museums&Art': 0.1, 'Higher Education': 0, 'Election primaries': 0.4, \n",
    " 'Music': 0, 'Election 2016': 0, 'Olympics 2016': 0, 'Democrats News': 0, 'Tech News ': 0, 'Sports': 0,\n",
    " 'Justice department': 1.0, 'NYC local': 0.2, 'Business&Economy': 0.6, 'Events in NYC': 0, 'University sports': 0, \n",
    " 'Politics': 1.0, 'Trends on twitter': 0, 'Education': 1.0, 'Republican News': 0, 'Theater&Broadway': 0.7}\n",
    "\n",
    "\n"
   ]
  },
  {
   "cell_type": "code",
   "execution_count": null,
   "metadata": {
    "collapsed": false,
    "deletable": true,
    "editable": true
   },
   "outputs": [],
   "source": [
    "doc_vector"
   ]
  },
  {
   "cell_type": "code",
   "execution_count": null,
   "metadata": {
    "collapsed": false,
    "deletable": true,
    "editable": true
   },
   "outputs": [],
   "source": [
    "#flatten nested list\n",
    "tmp_list = [item for sublist in doc_vector for item in sublist]"
   ]
  },
  {
   "cell_type": "code",
   "execution_count": 67,
   "metadata": {
    "collapsed": false,
    "deletable": true,
    "editable": true
   },
   "outputs": [
    {
     "ename": "NameError",
     "evalue": "name 'terms_names' is not defined",
     "output_type": "error",
     "traceback": [
      "\u001b[0;31m---------------------------------------------------------------------------\u001b[0m",
      "\u001b[0;31mNameError\u001b[0m                                 Traceback (most recent call last)",
      "\u001b[0;32m<ipython-input-67-730aff6c09ec>\u001b[0m in \u001b[0;36m<module>\u001b[0;34m()\u001b[0m\n\u001b[0;32m----> 1\u001b[0;31m \u001b[0mterms_names\u001b[0m\u001b[0;34m\u001b[0m\u001b[0m\n\u001b[0m",
      "\u001b[0;31mNameError\u001b[0m: name 'terms_names' is not defined"
     ]
    }
   ],
   "source": [
    "terms_names"
   ]
  },
  {
   "cell_type": "code",
   "execution_count": null,
   "metadata": {
    "collapsed": false,
    "deletable": true,
    "editable": true
   },
   "outputs": [],
   "source": [
    "np.array(doc_vector)"
   ]
  },
  {
   "cell_type": "code",
   "execution_count": null,
   "metadata": {
    "collapsed": false,
    "deletable": true,
    "editable": true
   },
   "outputs": [],
   "source": [
    "len(doc_vector)\n",
    "doc_vector[1][0]\n",
    "for i in range(len(doc_vector)):\n",
    "    for "
   ]
  },
  {
   "cell_type": "code",
   "execution_count": null,
   "metadata": {
    "collapsed": true,
    "deletable": true,
    "editable": true
   },
   "outputs": [],
   "source": [
    "topic_ix = reduced_mat[num_ix].argmax(axis=0)\n",
    "topic_ix# 50x1 .shape\n",
    "\n",
    "tmp = pd.Series(reduced_mat[num_ix])\n",
    "tmp.sort_values(ascending=False)[:3]\n",
    "\n",
    "get_topical_terms(lsa.components_,i,terms, 35)"
   ]
  },
  {
   "cell_type": "code",
   "execution_count": null,
   "metadata": {
    "collapsed": false,
    "deletable": true,
    "editable": true
   },
   "outputs": [],
   "source": [
    "num_ix"
   ]
  },
  {
   "cell_type": "code",
   "execution_count": null,
   "metadata": {
    "collapsed": false,
    "deletable": true,
    "editable": true
   },
   "outputs": [],
   "source": [
    "asd = reduced_mat[num_ix,:]\n",
    "asd"
   ]
  },
  {
   "cell_type": "code",
   "execution_count": null,
   "metadata": {
    "collapsed": false,
    "deletable": true,
    "editable": true
   },
   "outputs": [],
   "source": [
    "t = np.argsort(-asd)[:5]"
   ]
  },
  {
   "cell_type": "code",
   "execution_count": null,
   "metadata": {
    "collapsed": false,
    "deletable": true,
    "editable": true
   },
   "outputs": [],
   "source": [
    "a = [terms_names[a] for a in t]\n",
    "a"
   ]
  },
  {
   "cell_type": "code",
   "execution_count": null,
   "metadata": {
    "collapsed": false,
    "deletable": true,
    "editable": true
   },
   "outputs": [],
   "source": [
    "terms_names\n"
   ]
  },
  {
   "cell_type": "code",
   "execution_count": null,
   "metadata": {
    "collapsed": false,
    "deletable": true,
    "editable": true
   },
   "outputs": [],
   "source": [
    "tmp = pd.Series(reduced_mat[254,:])\n",
    "print (tmp.sort_values(ascending=False)[:3])\n",
    "\n",
    "term_ix = tmp.sort_values(ascending=False)[:3].index"
   ]
  },
  {
   "cell_type": "code",
   "execution_count": null,
   "metadata": {
    "collapsed": false,
    "deletable": true,
    "editable": true
   },
   "outputs": [],
   "source": [
    "for a in [0,8,34]:\n",
    "    print (get_topical_terms(lsa.components_,a,terms, 35))"
   ]
  },
  {
   "cell_type": "code",
   "execution_count": null,
   "metadata": {
    "collapsed": true,
    "deletable": true,
    "editable": true
   },
   "outputs": [],
   "source": []
  },
  {
   "cell_type": "code",
   "execution_count": null,
   "metadata": {
    "collapsed": false,
    "deletable": true,
    "editable": true
   },
   "outputs": [],
   "source": [
    "a = input()\n"
   ]
  },
  {
   "cell_type": "code",
   "execution_count": null,
   "metadata": {
    "collapsed": false,
    "deletable": true,
    "editable": true
   },
   "outputs": [],
   "source": [
    "a\n"
   ]
  },
  {
   "cell_type": "code",
   "execution_count": null,
   "metadata": {
    "collapsed": true,
    "deletable": true,
    "editable": true
   },
   "outputs": [],
   "source": []
  },
  {
   "cell_type": "code",
   "execution_count": null,
   "metadata": {
    "collapsed": true,
    "deletable": true,
    "editable": true
   },
   "outputs": [],
   "source": [
    "# def format_it(txt):\n",
    "#     \"\"\"Turns a text document to a list of formatted words.\n",
    "#     Get rid of possessives, special characters, multiple spaces, etc.\n",
    "#     \"\"\"\n",
    "#     tt = re.sub(r\"'s\\b\", '', txt).lower()  #possessives\n",
    "#     tt = re.sub(r'[\\.\\,\\;\\:\\|\\'\\\"\\(\\)\\{\\}\\$\\&\\%\\*\\+\\[\\]\\=\\?\\!/]', '', tt)  #weird stuff\n",
    "#     tt = re.sub(r' *\\$[0-9]\\S* ?', '', tt)  #dollar amounts\n",
    "#     tt = re.sub(r' *[0-9]\\S* ?', '', tt)    \n",
    "#     tt = re.sub(r'[\\-\\s]+', ' ', tt)  #hyphen -> space\n",
    "#     tt = re.sub(r' [a-z] ', ' ', tt)  # single letter -> space\n",
    "#     return tt.strip()#.split() \n",
    "\n",
    "#returns an array  when you split it/ "
   ]
  },
  {
   "cell_type": "code",
   "execution_count": null,
   "metadata": {
    "collapsed": false,
    "deletable": true,
    "editable": true
   },
   "outputs": [],
   "source": [
    "# format_it('000 the}| Article. ; a.q$,' )\n",
    "## apply format_it to clean text \n",
    "# texts [format(doc['article']) for doc in raw\n",
    "# # df_smaller=pd.DataFrame\n",
    "# df_smaller['article']= df['article'].apply(lambda x: format_it(x))"
   ]
  }
 ],
 "metadata": {
  "kernelspec": {
   "display_name": "Python 2",
   "language": "python",
   "name": "python2"
  },
  "language_info": {
   "codemirror_mode": {
    "name": "ipython",
    "version": 2
   },
   "file_extension": ".py",
   "mimetype": "text/x-python",
   "name": "python",
   "nbconvert_exporter": "python",
   "pygments_lexer": "ipython2",
   "version": "2.7.13"
  }
 },
 "nbformat": 4,
 "nbformat_minor": 2
}
