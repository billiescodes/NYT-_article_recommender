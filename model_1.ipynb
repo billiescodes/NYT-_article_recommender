{
 "cells": [
  {
   "cell_type": "code",
   "execution_count": 1,
   "metadata": {
    "collapsed": true,
    "deletable": true,
    "editable": true
   },
   "outputs": [],
   "source": [
    "import pandas as pd\n",
    "import numpy as np\n",
    "import matplotlib.pyplot as plt\n",
    "import seaborn as sns\n",
    "%matplotlib inline\n",
    "import datetime as dt \n",
    "\n",
    "from pymongo import MongoClient"
   ]
  },
  {
   "cell_type": "code",
   "execution_count": 3,
   "metadata": {
    "collapsed": true,
    "deletable": true,
    "editable": true
   },
   "outputs": [],
   "source": [
    "# for vectorization\n",
    "from sklearn.feature_extraction.text import CountVectorizer, TfidfVectorizer\n",
    "from sklearn.decomposition import TruncatedSVD, NMF\n",
    "from sklearn.preprocessing import Normalizer\n",
    "\n",
    "#preprocessing\n",
    "from sklearn.preprocessing import Normalizer"
   ]
  },
  {
   "cell_type": "code",
   "execution_count": 2,
   "metadata": {
    "collapsed": false,
    "deletable": true,
    "editable": true
   },
   "outputs": [
    {
     "name": "stdout",
     "output_type": "stream",
     "text": [
      "the loading took 0 seconds \n"
     ]
    }
   ],
   "source": [
    "import datetime as dt \n",
    "\n",
    "start = dt.datetime.now()\n",
    "#print ('test')\n",
    "\n",
    "print \"the loading took {} seconds \".format((dt.datetime.now()-start).seconds)"
   ]
  },
  {
   "cell_type": "code",
   "execution_count": 4,
   "metadata": {
    "collapsed": true,
    "deletable": true,
    "editable": true
   },
   "outputs": [],
   "source": [
    "# connect to nytime database\n",
    "\n",
    "client = MongoClient()\n",
    "\n",
    "db = client.nyt\n",
    "nyt_fulltext = db.nyt_fulltext\n",
    "\n",
    "nyt_data = db.nyt_data"
   ]
  },
  {
   "cell_type": "markdown",
   "metadata": {
    "deletable": true,
    "editable": true
   },
   "source": [
    "This model aims to find recommendations of articles from January - July 2016 based on a user's previous article choices. At this point the articles have already been extracted using the ** NYT API ** and imported into a MongoDB table.  After preprocessing that involves removal of stop-words and characters (punctation mostly), the text is vectorized (TFIDF) testing out one- and two-grams.  \n",
    "Topics are extracted from a corpus of articles from that time period. \n",
    "\n",
    "\n",
    "### Model pipeline\n",
    "\n",
    "1. Read in data from MongodDB \n",
    "2. extract text from each article\n",
    "3. text needs to remove stop words, commas, \n",
    "    1. use tfidf here, it will do this for you\n",
    "4. get vectors for the document\n",
    "5. np.mean() for the vectors, get one mean vector for document\n",
    "6. take cosine similarity with reference document\n",
    "7. pick N top choices for Recommendations"
   ]
  },
  {
   "cell_type": "code",
   "execution_count": 5,
   "metadata": {
    "collapsed": false,
    "deletable": true,
    "editable": true
   },
   "outputs": [
    {
     "data": {
      "text/plain": [
       "9644"
      ]
     },
     "execution_count": 5,
     "metadata": {},
     "output_type": "execute_result"
    }
   ],
   "source": [
    "nyt_fulltext.count()"
   ]
  },
  {
   "cell_type": "markdown",
   "metadata": {
    "deletable": true,
    "editable": true
   },
   "source": [
    "### Step 1: extract text"
   ]
  },
  {
   "cell_type": "code",
   "execution_count": 9,
   "metadata": {
    "collapsed": false,
    "deletable": true,
    "editable": true
   },
   "outputs": [],
   "source": [
    "''' retrieve full corpus'''\n",
    "test = list(db.nyt_fulltext.find({},{\"article\": 1,\n",
    "                                    \"query\": 1,\n",
    "                                    \"headline\": 1,\n",
    "                                      \"date\" : 1\n",
    "                                    #timeStamp: {$lte: <20160601>, \n",
    "                                  #  $gte : <20160518>}\n",
    "   }) ) #.limit(4000))\n",
    "\n",
    "# consider also \"snippet\" :1\n",
    "# later do whole text"
   ]
  },
  {
   "cell_type": "code",
   "execution_count": null,
   "metadata": {
    "collapsed": false,
    "deletable": true,
    "editable": true
   },
   "outputs": [],
   "source": [
    "# t = []\n",
    "# for a in range(500):\n",
    "#     t.append(test[a]['query'])\n",
    "# test = test[0:5890]\n",
    "# holdout = test[-4:]"
   ]
  },
  {
   "cell_type": "code",
   "execution_count": 10,
   "metadata": {
    "collapsed": false,
    "deletable": true,
    "editable": true
   },
   "outputs": [
    {
     "data": {
      "text/html": [
       "<div>\n",
       "<table border=\"1\" class=\"dataframe\">\n",
       "  <thead>\n",
       "    <tr style=\"text-align: right;\">\n",
       "      <th></th>\n",
       "      <th>query</th>\n",
       "      <th>article</th>\n",
       "      <th>headline</th>\n",
       "      <th>date</th>\n",
       "    </tr>\n",
       "  </thead>\n",
       "  <tbody>\n",
       "    <tr>\n",
       "      <th>0</th>\n",
       "      <td>economics</td>\n",
       "      <td>BIDDEFORD, Me.  When Kylie Galliani started at...</td>\n",
       "      <td>With Free Bikes, Challenging Car Culture on Ca...</td>\n",
       "      <td>2008-10-20</td>\n",
       "    </tr>\n",
       "    <tr>\n",
       "      <th>1</th>\n",
       "      <td>economics</td>\n",
       "      <td>In the video below, CNBC reports anew on New Y...</td>\n",
       "      <td>Wind Turbines in New York?</td>\n",
       "      <td>2008-10-20</td>\n",
       "    </tr>\n",
       "    <tr>\n",
       "      <th>2</th>\n",
       "      <td>economics</td>\n",
       "      <td>Is Europe no longer an economic museum? In rec...</td>\n",
       "      <td>Suddenly, Europe Looks Pretty Smart</td>\n",
       "      <td>2008-10-20</td>\n",
       "    </tr>\n",
       "  </tbody>\n",
       "</table>\n",
       "</div>"
      ],
      "text/plain": [
       "       query                                            article  \\\n",
       "0  economics  BIDDEFORD, Me.  When Kylie Galliani started at...   \n",
       "1  economics  In the video below, CNBC reports anew on New Y...   \n",
       "2  economics  Is Europe no longer an economic museum? In rec...   \n",
       "\n",
       "                                            headline        date  \n",
       "0  With Free Bikes, Challenging Car Culture on Ca...  2008-10-20  \n",
       "1                         Wind Turbines in New York?  2008-10-20  \n",
       "2                Suddenly, Europe Looks Pretty Smart  2008-10-20  "
      ]
     },
     "execution_count": 10,
     "metadata": {},
     "output_type": "execute_result"
    }
   ],
   "source": [
    "df = pd.DataFrame(test, columns=[\"query\", 'article', 'headline', 'date'] )\n",
    "df[:3]"
   ]
  },
  {
   "cell_type": "code",
   "execution_count": 19,
   "metadata": {
    "collapsed": false,
    "deletable": true,
    "editable": true
   },
   "outputs": [],
   "source": [
    "#Use the first 6 months\n",
    "df2 = df[(df['date'] > '2016-01-01') & (df['date'] < '2016-06-31')]"
   ]
  },
  {
   "cell_type": "code",
   "execution_count": 17,
   "metadata": {
    "collapsed": false,
    "deletable": true,
    "editable": true
   },
   "outputs": [
    {
     "data": {
      "text/plain": [
       "(6714, 4)"
      ]
     },
     "execution_count": 17,
     "metadata": {},
     "output_type": "execute_result"
    }
   ],
   "source": [
    "df2.shape"
   ]
  },
  {
   "cell_type": "code",
   "execution_count": 18,
   "metadata": {
    "collapsed": false,
    "deletable": true,
    "editable": true
   },
   "outputs": [
    {
     "data": {
      "text/plain": [
       "array([u'economics', u'politics', u'tech', u'business', u'sports', u'music'], dtype=object)"
      ]
     },
     "execution_count": 18,
     "metadata": {},
     "output_type": "execute_result"
    }
   ],
   "source": [
    "df2['query'].unique()"
   ]
  },
  {
   "cell_type": "code",
   "execution_count": 20,
   "metadata": {
    "collapsed": false,
    "deletable": true,
    "editable": true
   },
   "outputs": [
    {
     "data": {
      "text/plain": [
       "array([u'economics', u'politics', u'tech', u'business', u'sports', u'music'], dtype=object)"
      ]
     },
     "execution_count": 20,
     "metadata": {},
     "output_type": "execute_result"
    }
   ],
   "source": [
    "df['query'].unique()"
   ]
  },
  {
   "cell_type": "code",
   "execution_count": 9,
   "metadata": {
    "collapsed": false,
    "deletable": true,
    "editable": true
   },
   "outputs": [],
   "source": [
    "#df[df.article.isnull()].count()"
   ]
  },
  {
   "cell_type": "code",
   "execution_count": 21,
   "metadata": {
    "collapsed": true,
    "deletable": true,
    "editable": true
   },
   "outputs": [],
   "source": [
    "df.dropna(axis=0,inplace=True)"
   ]
  },
  {
   "cell_type": "code",
   "execution_count": 22,
   "metadata": {
    "collapsed": false,
    "deletable": true,
    "editable": true
   },
   "outputs": [
    {
     "data": {
      "text/plain": [
       "query       0\n",
       "article     0\n",
       "headline    0\n",
       "date        0\n",
       "dtype: int64"
      ]
     },
     "execution_count": 22,
     "metadata": {},
     "output_type": "execute_result"
    }
   ],
   "source": [
    "df[df.article.isnull()].count()"
   ]
  },
  {
   "cell_type": "code",
   "execution_count": 23,
   "metadata": {
    "collapsed": false,
    "deletable": true,
    "editable": true
   },
   "outputs": [],
   "source": [
    "df.drop_duplicates(subset=['headline'], inplace=True)"
   ]
  },
  {
   "cell_type": "code",
   "execution_count": 24,
   "metadata": {
    "collapsed": false,
    "deletable": true,
    "editable": true
   },
   "outputs": [
    {
     "data": {
      "text/plain": [
       "(8291, 4)"
      ]
     },
     "execution_count": 24,
     "metadata": {},
     "output_type": "execute_result"
    }
   ],
   "source": [
    "df.shape"
   ]
  },
  {
   "cell_type": "code",
   "execution_count": 21,
   "metadata": {
    "collapsed": false,
    "deletable": true,
    "editable": true
   },
   "outputs": [
    {
     "data": {
      "text/html": [
       "<div>\n",
       "<table border=\"1\" class=\"dataframe\">\n",
       "  <thead>\n",
       "    <tr style=\"text-align: right;\">\n",
       "      <th></th>\n",
       "      <th>query</th>\n",
       "      <th>article</th>\n",
       "      <th>headline</th>\n",
       "    </tr>\n",
       "  </thead>\n",
       "  <tbody>\n",
       "    <tr>\n",
       "      <th>0</th>\n",
       "      <td>business</td>\n",
       "      <td>MINNEAPOLIS  The snapped football flew high an...</td>\n",
       "      <td>Seahawks Pull a Win From Their Long Sleeves</td>\n",
       "    </tr>\n",
       "    <tr>\n",
       "      <th>1</th>\n",
       "      <td>business</td>\n",
       "      <td>PHOENIX  Bobby Williams got his first break as...</td>\n",
       "      <td>Knocking at Opportunity From Alabama’s Sideline</td>\n",
       "    </tr>\n",
       "    <tr>\n",
       "      <th>2</th>\n",
       "      <td>business</td>\n",
       "      <td>(Want to get this briefing by email? Heres the...</td>\n",
       "      <td>Your Monday Briefing: Hillary Clinton, Golden ...</td>\n",
       "    </tr>\n",
       "    <tr>\n",
       "      <th>3</th>\n",
       "      <td>business</td>\n",
       "      <td>Since leaving IMG, the sports and media powerh...</td>\n",
       "      <td>Bruin Sports to Team Up With Others as Investor</td>\n",
       "    </tr>\n",
       "  </tbody>\n",
       "</table>\n",
       "</div>"
      ],
      "text/plain": [
       "      query                                            article  \\\n",
       "0  business  MINNEAPOLIS  The snapped football flew high an...   \n",
       "1  business  PHOENIX  Bobby Williams got his first break as...   \n",
       "2  business  (Want to get this briefing by email? Heres the...   \n",
       "3  business  Since leaving IMG, the sports and media powerh...   \n",
       "\n",
       "                                            headline  \n",
       "0        Seahawks Pull a Win From Their Long Sleeves  \n",
       "1    Knocking at Opportunity From Alabama’s Sideline  \n",
       "2  Your Monday Briefing: Hillary Clinton, Golden ...  \n",
       "3    Bruin Sports to Team Up With Others as Investor  "
      ]
     },
     "execution_count": 21,
     "metadata": {},
     "output_type": "execute_result"
    }
   ],
   "source": [
    "# df_test = pd.DataFrame(holdout, columns=[\"query\", 'article','headline'] )\n",
    "# df_test"
   ]
  },
  {
   "cell_type": "code",
   "execution_count": 25,
   "metadata": {
    "collapsed": false,
    "deletable": true,
    "editable": true
   },
   "outputs": [
    {
     "name": "stdout",
     "output_type": "stream",
     "text": [
      "<class 'pandas.core.frame.DataFrame'>\n",
      "Int64Index: 8291 entries, 0 to 9643\n",
      "Data columns (total 4 columns):\n",
      "query       8291 non-null object\n",
      "article     8291 non-null object\n",
      "headline    8291 non-null object\n",
      "date        8291 non-null object\n",
      "dtypes: object(4)\n",
      "memory usage: 323.9+ KB\n"
     ]
    }
   ],
   "source": [
    "#df.iloc[0,1]\n",
    "df.info()"
   ]
  },
  {
   "cell_type": "code",
   "execution_count": 26,
   "metadata": {
    "collapsed": false,
    "deletable": true,
    "editable": true
   },
   "outputs": [
    {
     "data": {
      "text/plain": [
       "array([u'economics', u'politics', u'tech', u'business', u'sports', u'music'], dtype=object)"
      ]
     },
     "execution_count": 26,
     "metadata": {},
     "output_type": "execute_result"
    }
   ],
   "source": [
    "df['query'].unique()"
   ]
  },
  {
   "cell_type": "code",
   "execution_count": null,
   "metadata": {
    "collapsed": false,
    "deletable": true,
    "editable": true
   },
   "outputs": [],
   "source": [
    "#df[df.query.isnull()].count()"
   ]
  },
  {
   "cell_type": "markdown",
   "metadata": {
    "deletable": true,
    "editable": true
   },
   "source": [
    "# step 2: preprocessing of the text\n",
    "= try 2-grams"
   ]
  },
  {
   "cell_type": "code",
   "execution_count": 27,
   "metadata": {
    "collapsed": false,
    "deletable": true,
    "editable": true
   },
   "outputs": [
    {
     "data": {
      "text/plain": [
       "['central', 'chinas', 'greeces', 'greek', 'big']"
      ]
     },
     "execution_count": 27,
     "metadata": {},
     "output_type": "execute_result"
    }
   ],
   "source": [
    "\n",
    "from nltk.corpus import stopwords\n",
    "stop = stopwords.words('english')\n",
    "stop += ['.', ',', '(', ')', \"'\", '\"']\n",
    "stop += ['would','one','like', 'mr','ms','also','could','said','should',\n",
    "     'first', 'two', 'three', 'four', 'five', 'six', 'seven', 'eight'\n",
    "    , 'nine', 'ten', 'mrs', 'years','last', 'im' ,'dont','street', 'think',\n",
    "        'time', 'many', 'even', 'sanderss', 'york', 'new', 'companies', 'trumps'\n",
    "        , 'donald', 'bernie','apples', 'de', 'com', 'year',\n",
    "        'percent', 'much', 'cruzs', 'clintons', 'care', 'rose','org',\n",
    "        'make', 'ted', 'dr', 'start','union','news','program','banks', 'central',\n",
    "        'chinas','greeces', 'greek', 'big' ]\n",
    "\n",
    "stop[-5:]"
   ]
  },
  {
   "cell_type": "code",
   "execution_count": 28,
   "metadata": {
    "collapsed": true,
    "deletable": true,
    "editable": true
   },
   "outputs": [],
   "source": [
    "#tfidf = TfidfVectorizer(stop, min_df=5, ngram_range=(1,1) )\n",
    "## token pattern should get rid off  the numbers\n",
    "\n",
    "CountVectorizer\n",
    "tfidf = TfidfVectorizer(stop_words=stop,min_df=20, token_pattern=\"\\\\b[a-zA-Z][a-zA-Z]+\\\\b\",\n",
    "                        # lowercase=True, # default\n",
    "                        ngram_range=(1,2) )"
   ]
  },
  {
   "cell_type": "code",
   "execution_count": 29,
   "metadata": {
    "collapsed": false,
    "deletable": true,
    "editable": true
   },
   "outputs": [],
   "source": [
    "tfidf_vecs = tfidf.fit_transform(df.article)\n",
    "#tfidf_vecs = tfidf.fit_transform(df_smaller.article)"
   ]
  },
  {
   "cell_type": "code",
   "execution_count": 30,
   "metadata": {
    "collapsed": false,
    "deletable": true,
    "editable": true
   },
   "outputs": [
    {
     "data": {
      "text/html": [
       "<div>\n",
       "<table border=\"1\" class=\"dataframe\">\n",
       "  <thead>\n",
       "    <tr style=\"text-align: right;\">\n",
       "      <th></th>\n",
       "      <th>aaron</th>\n",
       "      <th>aaron curry</th>\n",
       "      <th>abacus</th>\n",
       "      <th>abacus zoology</th>\n",
       "      <th>abandon</th>\n",
       "      <th>abandoned</th>\n",
       "      <th>abandoning</th>\n",
       "      <th>abandonment</th>\n",
       "      <th>abbey</th>\n",
       "      <th>abbott</th>\n",
       "      <th>...</th>\n",
       "      <th>zombies</th>\n",
       "      <th>zone</th>\n",
       "      <th>zone discovering</th>\n",
       "      <th>zones</th>\n",
       "      <th>zoning</th>\n",
       "      <th>zoo</th>\n",
       "      <th>zoology</th>\n",
       "      <th>zoology may</th>\n",
       "      <th>zuckerberg</th>\n",
       "      <th>zurich</th>\n",
       "    </tr>\n",
       "  </thead>\n",
       "  <tbody>\n",
       "    <tr>\n",
       "      <th>0</th>\n",
       "      <td>0.0</td>\n",
       "      <td>0.0</td>\n",
       "      <td>0.0</td>\n",
       "      <td>0.0</td>\n",
       "      <td>0.0</td>\n",
       "      <td>0.0</td>\n",
       "      <td>0.0</td>\n",
       "      <td>0.0</td>\n",
       "      <td>0.0</td>\n",
       "      <td>0.0</td>\n",
       "      <td>...</td>\n",
       "      <td>0.0</td>\n",
       "      <td>0.0</td>\n",
       "      <td>0.0</td>\n",
       "      <td>0.0</td>\n",
       "      <td>0.0</td>\n",
       "      <td>0.0</td>\n",
       "      <td>0.0</td>\n",
       "      <td>0.0</td>\n",
       "      <td>0.0</td>\n",
       "      <td>0.0</td>\n",
       "    </tr>\n",
       "    <tr>\n",
       "      <th>1</th>\n",
       "      <td>0.0</td>\n",
       "      <td>0.0</td>\n",
       "      <td>0.0</td>\n",
       "      <td>0.0</td>\n",
       "      <td>0.0</td>\n",
       "      <td>0.0</td>\n",
       "      <td>0.0</td>\n",
       "      <td>0.0</td>\n",
       "      <td>0.0</td>\n",
       "      <td>0.0</td>\n",
       "      <td>...</td>\n",
       "      <td>0.0</td>\n",
       "      <td>0.0</td>\n",
       "      <td>0.0</td>\n",
       "      <td>0.0</td>\n",
       "      <td>0.0</td>\n",
       "      <td>0.0</td>\n",
       "      <td>0.0</td>\n",
       "      <td>0.0</td>\n",
       "      <td>0.0</td>\n",
       "      <td>0.0</td>\n",
       "    </tr>\n",
       "    <tr>\n",
       "      <th>2</th>\n",
       "      <td>0.0</td>\n",
       "      <td>0.0</td>\n",
       "      <td>0.0</td>\n",
       "      <td>0.0</td>\n",
       "      <td>0.0</td>\n",
       "      <td>0.0</td>\n",
       "      <td>0.0</td>\n",
       "      <td>0.0</td>\n",
       "      <td>0.0</td>\n",
       "      <td>0.0</td>\n",
       "      <td>...</td>\n",
       "      <td>0.0</td>\n",
       "      <td>0.0</td>\n",
       "      <td>0.0</td>\n",
       "      <td>0.0</td>\n",
       "      <td>0.0</td>\n",
       "      <td>0.0</td>\n",
       "      <td>0.0</td>\n",
       "      <td>0.0</td>\n",
       "      <td>0.0</td>\n",
       "      <td>0.0</td>\n",
       "    </tr>\n",
       "  </tbody>\n",
       "</table>\n",
       "<p>3 rows × 26506 columns</p>\n",
       "</div>"
      ],
      "text/plain": [
       "   aaron  aaron curry  abacus  abacus zoology  abandon  abandoned  abandoning  \\\n",
       "0    0.0          0.0     0.0             0.0      0.0        0.0         0.0   \n",
       "1    0.0          0.0     0.0             0.0      0.0        0.0         0.0   \n",
       "2    0.0          0.0     0.0             0.0      0.0        0.0         0.0   \n",
       "\n",
       "   abandonment  abbey  abbott   ...    zombies  zone  zone discovering  zones  \\\n",
       "0          0.0    0.0     0.0   ...        0.0   0.0               0.0    0.0   \n",
       "1          0.0    0.0     0.0   ...        0.0   0.0               0.0    0.0   \n",
       "2          0.0    0.0     0.0   ...        0.0   0.0               0.0    0.0   \n",
       "\n",
       "   zoning  zoo  zoology  zoology may  zuckerberg  zurich  \n",
       "0     0.0  0.0      0.0          0.0         0.0     0.0  \n",
       "1     0.0  0.0      0.0          0.0         0.0     0.0  \n",
       "2     0.0  0.0      0.0          0.0         0.0     0.0  \n",
       "\n",
       "[3 rows x 26506 columns]"
      ]
     },
     "execution_count": 30,
     "metadata": {},
     "output_type": "execute_result"
    }
   ],
   "source": [
    "X = pd.DataFrame(tfidf_vecs.todense(),\n",
    "             columns=tfidf.get_feature_names())\n",
    "X[:3]"
   ]
  },
  {
   "cell_type": "markdown",
   "metadata": {
    "deletable": true,
    "editable": true
   },
   "source": [
    "-  min_df=5,  ngram_range=(1,1) , 23812 columns\n",
    "- min_df=5,  ngram_range=(1,2),  140938 columns\n",
    "- min_df=20,  ngram_range=(1,2),  31786 columns\n",
    "- **min_df=20,  ngram_range=(1,1),   10095 columns  **\n",
    "\n",
    "+ stop words (modified)\n",
    "- **min_df=20,  ngram_range=(1,1),  9950 columns **\n",
    "\n",
    "### with all but last 4 articles:\n",
    "- **min_df=20,  ngram_range=(1,1),  12835 columns **\n",
    "\n",
    "\n",
    "\n",
    "Can also do Count Vectorizer (how many words I have in doc)\n",
    "### play with Vectorizer methods"
   ]
  },
  {
   "cell_type": "code",
   "execution_count": 193,
   "metadata": {
    "collapsed": false,
    "deletable": true,
    "editable": true
   },
   "outputs": [
    {
     "data": {
      "text/plain": [
       "[u'aaron',\n",
       " u'american international',\n",
       " u'authority',\n",
       " u'bolster',\n",
       " u'caterpillar',\n",
       " u'college tuition',\n",
       " u'corona',\n",
       " u'deliberately',\n",
       " u'dominate',\n",
       " u'enforcement']"
      ]
     },
     "execution_count": 193,
     "metadata": {},
     "output_type": "execute_result"
    }
   ],
   "source": [
    "#tfidf_vecs.check_format\n",
    "#tfidf.analyzer\n",
    "###''' i do this later anyway'''\n",
    "features = list(tfidf.get_feature_names())\n",
    "features[:5000:500]"
   ]
  },
  {
   "cell_type": "markdown",
   "metadata": {
    "deletable": true,
    "editable": true
   },
   "source": [
    "### LSA :   Dimension Reduction / Feature Extraction\n",
    "- tall skinny + short wide matrices\n",
    "#### Number of topics\n",
    "+ 50\n",
    "+ try 20/15"
   ]
  },
  {
   "cell_type": "code",
   "execution_count": 194,
   "metadata": {
    "collapsed": false,
    "deletable": true,
    "editable": true
   },
   "outputs": [],
   "source": [
    "'''\n",
    "pass the raw tfidf_vecs (not the dataframe to the LSA fransform )\n",
    "first param = Desired dimensionality of output data. Must be strictly less than the number of features. \n",
    "The default value is useful for visualisation. For LSA, a value of 100 is recommended\n",
    "\n",
    "\n",
    "try: 50/100\n",
    "'''\n",
    "\n",
    "lsa = TruncatedSVD(20, algorithm = 'arpack')\n",
    "reduced_mat = lsa.fit_transform(tfidf_vecs)"
   ]
  },
  {
   "cell_type": "code",
   "execution_count": 195,
   "metadata": {
    "collapsed": true,
    "deletable": true,
    "editable": true
   },
   "outputs": [],
   "source": [
    "#It calculates the sum of squares for each row (the \"fit\" part) and \n",
    "## then divides each row by that amount (the \"transform\" part).  This just ensures that \n",
    "#each vector has a \"norm\" of 1\n",
    "## Vectors with a norm of 1 are easy to work with for calculating similarity.\n",
    "reduced_mat = Normalizer(copy=False).fit_transform(reduced_mat)"
   ]
  },
  {
   "cell_type": "code",
   "execution_count": 196,
   "metadata": {
    "collapsed": false,
    "deletable": true,
    "editable": true
   },
   "outputs": [
    {
     "data": {
      "text/plain": [
       "((5028, 15465), (5028, 20))"
      ]
     },
     "execution_count": 196,
     "metadata": {},
     "output_type": "execute_result"
    }
   ],
   "source": [
    "'''\n",
    "count_mat == tfidf_vecs\n",
    "'''\n",
    "#count_mat.shape, reduced_mat.shape\n",
    "\n",
    "tfidf_vecs.shape, reduced_mat.shape"
   ]
  },
  {
   "cell_type": "markdown",
   "metadata": {
    "deletable": true,
    "editable": true
   },
   "source": [
    "+ ** num documents** 5831 \n",
    "+ ** num features as words/tokens** 12835   (9950 (old: 10095)\n",
    "+ ** dimensionality of output data ** 15  "
   ]
  },
  {
   "cell_type": "markdown",
   "metadata": {
    "deletable": true,
    "editable": true
   },
   "source": [
    "## Explore the most important words in each topic / dimension"
   ]
  },
  {
   "cell_type": "code",
   "execution_count": 197,
   "metadata": {
    "collapsed": false,
    "deletable": true,
    "editable": true
   },
   "outputs": [
    {
     "data": {
      "text/plain": [
       "array([u'aaron', u'advertisements', u'american international',\n",
       "       u'archaeology', u'authority', u'begun', u'bolster', u'bureau chief',\n",
       "       u'caterpillar', u'christianity', u'college tuition',\n",
       "       u'conflict interest', u'corona', u'current', u'deliberately',\n",
       "       u'different story', u'dominate', u'economics london',\n",
       "       u'enforcement', u'example'], \n",
       "      dtype='<U27')"
      ]
     },
     "execution_count": 197,
     "metadata": {},
     "output_type": "execute_result"
    }
   ],
   "source": [
    "terms = np.array(tfidf.get_feature_names())\n",
    "terms[:5000: 250]"
   ]
  },
  {
   "cell_type": "code",
   "execution_count": 202,
   "metadata": {
    "collapsed": true,
    "deletable": true,
    "editable": true
   },
   "outputs": [],
   "source": [
    "## This is a simple convenience function which gets the highest valued terms for each topic\n",
    "\"\"\"\n",
    "topic-mat is the LSA matrix (see above) lsa.components\n",
    "i, topic number\n",
    "term_vec: all the different column values (from vectorized matrix above)\n",
    "    we called this terms, it's all the terms extracted from the vectoriztion process\n",
    "    \n",
    "    argsort sorts vectors in acsending order the (- ...) minus, sorts it in descending order\n",
    "\"\"\"\n",
    "def get_topical_terms(topic_mat, topic_num, term_vec, num_terms=35):\n",
    "    return term_vec[np.argsort(-topic_mat[topic_num,:])][:num_terms]"
   ]
  },
  {
   "cell_type": "code",
   "execution_count": 203,
   "metadata": {
    "collapsed": false,
    "deletable": true,
    "editable": true,
    "scrolled": false
   },
   "outputs": [
    {
     "name": "stdout",
     "output_type": "stream",
     "text": [
      "topic 0\n",
      "[u'people' u'trump' u'clinton' u'president' u'states' u'state'\n",
      " u'republican' u'government' u'obama' u'economic' u'american' u'company'\n",
      " u'united' u'economy' u'campaign' u'sanders' u'political' u'party'\n",
      " u'united states' u'tax' u'world' u'work' u'million' u'cruz' u'get' u'may'\n",
      " u'money' u'way' u'well' u'business' u'republicans' u'house' u'still'\n",
      " u'policy' u'say']\n",
      "topic 1\n",
      "[u'trump' u'clinton' u'cruz' u'iowa' u'sanders' u'republican' u'campaign'\n",
      " u'senator' u'voters' u'rubio' u'republicans' u'candidates' u'hampshire'\n",
      " u'obama' u'bush' u'hillary' u'democratic' u'presidential' u'candidate'\n",
      " u'party' u'caucuses' u'debate' u'democrats' u'president' u'polls'\n",
      " u'hillary clinton' u'primary' u'race' u'christie' u'conservative'\n",
      " u'election' u'gun' u'caucus' u'poll' u'immigration']\n",
      "topic 2\n",
      "[u'art' u'school' u'students' u'museum' u'life' u'theater' u'city' u'show'\n",
      " u'music' u'children' u'film' u'family' u'book' u'college' u'young' u'work'\n",
      " u'brooklyn' u'people' u'women' u'love' u'sunday' u'artists' u'university'\n",
      " u'father' u'black' u'game' u'story' u'avenue' u'saturday' u'mother'\n",
      " u'team' u'exhibition' u'movie' u'books' u'manhattan']\n",
      "topic 3\n",
      "[u'trump' u'cruz' u'company' u'iowa' u'apple' u'investors' u'rubio'\n",
      " u'billion' u'tech' u'nyt' u'stock' u'google' u'facebook' u'million'\n",
      " u'software' u'chief' u'technology' u'sales' u'market' u'chief executive'\n",
      " u'data' u'shares' u'quarter' u'iphone' u'caucuses' u'firm' u'microsoft'\n",
      " u'bloomberg' u'wall' u'companys' u'business' u'stocks' u'app' u'executive'\n",
      " u'bank']\n",
      "topic 4\n",
      "[u'clinton' u'sanders' u'gun' u'hillary' u'company' u'apple' u'campaign'\n",
      " u'senator sanders' u'democratic' u'wall' u'hillary clinton' u'vermont'\n",
      " u'tech' u'investors' u'iowa' u'nyt' u'billion' u'health' u'google'\n",
      " u'million' u'technology' u'software' u'hampshire' u'senator' u'executive'\n",
      " u'sanders vermont' u'facebook' u'clinton campaign' u'iphone' u'financial'\n",
      " u'data' u'ad' u'chief executive' u'gun control' u'stock']\n",
      "topic 5\n",
      "[u'apple' u'government' u'obama' u'court' u'european' u'law' u'security'\n",
      " u'company' u'president' u'iphone' u'billion' u'officials' u'party' u'deal'\n",
      " u'nyt' u'greece' u'congress' u'house' u'privacy' u'google' u'case'\n",
      " u'justice' u'iran' u'republicans' u'executive' u'senate' u'encryption'\n",
      " u'china' u'republican' u'minister' u'enforcement' u'facebook'\n",
      " u'law enforcement' u'state' u'political']\n",
      "topic 6\n",
      "[u'european' u'greece' u'clinton' u'bank' u'sanders' u'europe' u'eurozone'\n",
      " u'art' u'minister' u'britain' u'tsipras' u'museum' u'sunday' u'creditors'\n",
      " u'euro' u'debt' u'countries' u'germany' u'china' u'london' u'british'\n",
      " u'theater' u'iowa' u'prime minister' u'saturday' u'france'\n",
      " u'european bank' u'international' u'russia' u'crisis' u'prime' u'german'\n",
      " u'french' u'financial' u'political']\n",
      "topic 7\n",
      "[u'points' u'scored' u'scored points' u'state' u'school' u'university'\n",
      " u'college' u'rebounds' u'texas' u'graduated' u'obama' u'season' u'oil'\n",
      " u'president' u'house' u'conference' u'game' u'law' u'students'\n",
      " u'points rebounds' u'virginia' u'st' u'coach' u'city' u'father'\n",
      " u'republican' u'senate' u'home' u'republicans' u'received' u'federal'\n",
      " u'washington' u'team' u'tournament' u'carolina']\n",
      "topic 8\n",
      "[u'points' u'scored' u'scored points' u'game' u'apple' u'european'\n",
      " u'season' u'rebounds' u'tech' u'points rebounds' u'greece' u'conference'\n",
      " u'games' u'iphone' u'teams' u'seeded' u'win' u'tournament' u'team'\n",
      " u'players' u'texas' u'coach' u'victory' u'virginia' u'seconds' u'point'\n",
      " u'career high' u'beat' u'windows' u'google' u'second half' u'state'\n",
      " u'carolina' u'app' u'kansas']\n",
      "topic 9\n",
      "[u'china' u'art' u'oil' u'museum' u'obama' u'apple' u'chinese' u'united'\n",
      " u'trade' u'united states' u'theater' u'prices' u'show' u'exhibition'\n",
      " u'iran' u'sales' u'states' u'american' u'sunday' u'energy' u'avenue'\n",
      " u'saudi' u'saturday' u'production' u'gun' u'artists' u'west' u'friday'\n",
      " u'saturday sunday' u'fell' u'nuclear' u'music' u'brooklyn' u'briefing'\n",
      " u'security']\n",
      "topic 10\n",
      "[u'tax' u'republicans' u'art' u'republican' u'museum' u'house' u'theater'\n",
      " u'obama' u'bush' u'show' u'sunday' u'senate' u'exhibition' u'nyt'\n",
      " u'greece' u'billion' u'avenue' u'democrats' u'saturday' u'artists'\n",
      " u'saturday sunday' u'brooklyn' u'bank' u'music' u'budget' u'party'\n",
      " u'congress' u'investors' u'cuts' u'mccain' u'rubio' u'taxes'\n",
      " u'white house' u'musical' u'tax cuts']\n",
      "topic 11\n",
      "[u'china' u'trade' u'chinese' u'trump' u'points' u'climate' u'scored'\n",
      " u'deal' u'billion' u'nyt' u'scored points' u'world' u'game' u'investors'\n",
      " u'global' u'american' u'climate change' u'energy' u'pacific' u'carbon'\n",
      " u'million' u'united' u'united states' u'season' u'bloomberg' u'company'\n",
      " u'beijing' u'investment' u'deals' u'dealbook' u'wall' u'hedge'\n",
      " u'emissions' u'wall journal' u'funds']\n",
      "topic 12\n",
      "[u'tax' u'china' u'trump' u'trade' u'apple' u'chinese' u'museum' u'art'\n",
      " u'points' u'workers' u'scored' u'european' u'scored points' u'saturday'\n",
      " u'theater' u'income' u'party' u'sunday' u'exhibition' u'economic'\n",
      " u'avenue' u'jobs' u'greece' u'google' u'iphone' u'brooklyn'\n",
      " u'saturday sunday' u'free' u'tech' u'taxes' u'show' u'children'\n",
      " u'manhattan' u'government' u'windows']\n",
      "topic 13\n",
      "[u'cruz' u'climate' u'energy' u'climate change' u'carbon' u'tax' u'iowa'\n",
      " u'change' u'emissions' u'greece' u'gas' u'water' u'students'\n",
      " u'environmental' u'european' u'coal' u'oil' u'health' u'fossil'\n",
      " u'countries' u'cost' u'electricity' u'fuels' u'fuel' u'sanders' u'science'\n",
      " u'plan' u'renewable' u'warming' u'greenhouse' u'solar' u'system'\n",
      " u'windows' u'plants' u'state']\n",
      "topic 14\n",
      "[u'party' u'bush' u'rubio' u'voters' u'republican' u'hampshire' u'christie'\n",
      " u'conservative' u'political' u'china' u'kasich' u'chinese' u'candidates'\n",
      " u'climate' u'energy' u'jeb' u'election' u'oil' u'campaign' u'primary'\n",
      " u'romney' u'candidate' u'polls' u'florida' u'climate change' u'pac' u'gov'\n",
      " u'conservatives' u'republicans' u'establishment' u'jeb bush' u'partys'\n",
      " u'donors' u'governor' u'vote']\n",
      "topic 15\n",
      "[u'cruz' u'china' u'chinese' u'rubio' u'obama' u'iowa' u'trade' u'bush'\n",
      " u'bus tour' u'day town' u'town swing' u'senator' u'event jan'\n",
      " u'faces culinary' u'jan place' u'tour event' u'places faces'\n",
      " u'iowa population' u'swing iowa' u'cruz day' u'proper bus'\n",
      " u'population site' u'beijing' u'bank' u'culinary' u'tour' u'bus'\n",
      " u'christie' u'house' u'president' u'highlight' u'swing' u'highlight cruz'\n",
      " u'proper' u'windows']\n",
      "topic 16\n",
      "[u'trump' u'obama' u'climate' u'trade' u'graduated' u'energy' u'university'\n",
      " u'climate change' u'president' u'windows' u'european' u'house' u'school'\n",
      " u'republicans' u'greece' u'students' u'father' u'college' u'received'\n",
      " u'white house' u'degree' u'app' u'carbon' u'oil' u'change' u'mother'\n",
      " u'google' u'science' u'daughter' u'son' u'bride' u'obamas' u'technology'\n",
      " u'clinton' u'received masters']\n",
      "topic 17\n",
      "[u'apple' u'court' u'climate' u'fed' u'case' u'iphone' u'cruz' u'law'\n",
      " u'bank' u'points' u'climate change' u'china' u'justice' u'policy' u'nyt'\n",
      " u'rates' u'students' u'judge' u'encryption' u'art' u'inflation' u'scored'\n",
      " u'chinese' u'scored points' u'change' u'interest' u'supreme'\n",
      " u'supreme court' u'book' u'federal' u'financial' u'privacy' u'government'\n",
      " u'carbon' u'law enforcement']\n",
      "topic 18\n",
      "[u'students' u'gun' u'colleges' u'schools' u'college' u'windows'\n",
      " u'education' u'student' u'chinese' u'china' u'school' u'briefing'\n",
      " u'article' u'party' u'republican' u'trump' u'republicans' u'nytimes'\n",
      " u'campus' u'police' u'teachers' u'women' u'black' u'nyt' u'report'\n",
      " u'high school' u'teenagers' u'senate' u'guns' u'online' u'admissions'\n",
      " u'bank' u'times' u'fed' u'learning']\n",
      "topic 19\n",
      "[u'tax' u'bush' u'windows' u'students' u'saudi' u'rubio' u'briefing'\n",
      " u'christie' u'china' u'iran' u'kasich' u'jeb' u'bank' u'app' u'hampshire'\n",
      " u'college' u'chinese' u'oil' u'arabia' u'saudi arabia' u'school' u'fed'\n",
      " u'trump' u'colleges' u'apps' u'screen' u'settings' u'tax cuts' u'rates'\n",
      " u'click' u'cuts' u'computer' u'heres' u'android' u'super']\n"
     ]
    }
   ],
   "source": [
    "## Print the highest valued terms for each of the first 10 topics\n",
    "'''\n",
    "topic 0 is the strongest topic/ has highest eigenvectors\n",
    "\n",
    "lsa.components_  // short wide matrix of giving a weight to each word within each topic\n",
    "'''\n",
    "for i in range(20):\n",
    "    print(\"topic {}\".format(i))\n",
    "    print(get_topical_terms(lsa.components_,i,terms, 35))\n",
    "    \n",
    "#     ['would','one','like', 'mr','ms','also','could','said','should',\n",
    "#      'first', 'two', 'three', 'four', 'five', 'six', 'seven', 'eight'\n",
    "#     , 'nine', 'ten']\n",
    "\n",
    "# ['new', 'mrs'] New could be now york"
   ]
  },
  {
   "cell_type": "code",
   "execution_count": 31,
   "metadata": {
    "collapsed": true,
    "deletable": true,
    "editable": true
   },
   "outputs": [],
   "source": [
    "terms_names = ['Politics', 'Election primaries', 'Business&Economy', 'Sports', \n",
    "               'NYT editorials&comments', \"Events in NYC\", #5\n",
    "               \"Democrats News\", 'Education', 'Tech News ',#8\n",
    "               , \"NYC local\", \"Justice department\",'Theater&Broadway', #11\n",
    "               , \"Higher Education\" , \"University sports\",\"Music\", #14\n",
    "               \"Museums&Art\", 'Republican News','Olympics 2016',#17\n",
    "               \"Trends on twitter\", 'Election 2016'            \n",
    "              ]"
   ]
  },
  {
   "cell_type": "code",
   "execution_count": 314,
   "metadata": {
    "collapsed": false,
    "deletable": true,
    "editable": true
   },
   "outputs": [],
   "source": [
    "# possible classifications for 15 topics\n",
    "# [0,1,2,3,4,5,6,7,8,9,10,11,12,13,14]\n",
    "#['government', 'election--primaries','election--banks/economics', 'election-- tech market', 'election- ' ]\n",
    "\n",
    "terms_names = ['government', 'election--primaries','art & culture','business& technology','Democrat news',\n",
    "               'national security','europe & economics','university sports', 'sports',\n",
    "               'international finance /china','Music&Entertainment', 'TPP and trade','Sunday edition (summary)',\n",
    "               'climate & energy','party politics','Republican news','White house news',\n",
    "'Justice department','Education','Smart Phones']"
   ]
  },
  {
   "cell_type": "code",
   "execution_count": 209,
   "metadata": {
    "collapsed": false,
    "deletable": true,
    "editable": true
   },
   "outputs": [
    {
     "data": {
      "text/plain": [
       "[<matplotlib.lines.Line2D at 0x15c626bd0>]"
      ]
     },
     "execution_count": 209,
     "metadata": {},
     "output_type": "execute_result"
    },
    {
     "data": {
      "image/png": "[encoded data removed]",
      "text/plain": [
       "<matplotlib.figure.Figure at 0x167253f50>"
      ]
     },
     "metadata": {},
     "output_type": "display_data"
    }
   ],
   "source": [
    "lsa.components_.shape # short and wide matrix\n",
    "#lsa.components_\n",
    "#reduced_mat\n",
    "#pd.DataaFrame(lsa.components_)\n",
    "# output: 50 rows × 10095 columns\n",
    "plt.figure(figsize=(12,5))\n",
    "plt.plot(lsa.explained_variance_ratio_, color='green',marker = '+')#,'r+')"
   ]
  },
  {
   "cell_type": "markdown",
   "metadata": {
    "deletable": true,
    "editable": true
   },
   "source": [
    "## Explore which documents are similar to which others"
   ]
  },
  {
   "cell_type": "code",
   "execution_count": 210,
   "metadata": {
    "collapsed": false,
    "deletable": true,
    "editable": true
   },
   "outputs": [
    {
     "data": {
      "text/plain": [
       "(5028, 20)"
      ]
     },
     "execution_count": 210,
     "metadata": {},
     "output_type": "execute_result"
    }
   ],
   "source": [
    "reduced_mat.shape"
   ]
  },
  {
   "cell_type": "code",
   "execution_count": 213,
   "metadata": {
    "collapsed": false,
    "deletable": true,
    "editable": true
   },
   "outputs": [
    {
     "name": "stdout",
     "output_type": "stream",
     "text": [
      "the loading took 0 seconds \n"
     ]
    }
   ],
   "source": [
    "# might take a while\n",
    "start = dt.datetime.now()\n",
    "#print ('test')\n",
    "sim_mat = np.dot(reduced_mat, reduced_mat.T)\n",
    "\n",
    "print \"the loading took {} seconds \".format((dt.datetime.now()-start).seconds)\n",
    "#sim_mat.shape\n",
    "#get_similar_docs(reduced_mat[2535,:],reduced_mat)\n",
    "#get_similar_docs(reduced_mat[123,:],reduced_mat)"
   ]
  },
  {
   "cell_type": "markdown",
   "metadata": {
    "deletable": true,
    "editable": true
   },
   "source": [
    "## Test the holdout set\n",
    "1. use vectorizer tfidf, to 'transform' the holdout set, you don't wanna fit_transform here\n"
   ]
  },
  {
   "cell_type": "code",
   "execution_count": 45,
   "metadata": {
    "collapsed": false,
    "deletable": true,
    "editable": true
   },
   "outputs": [
    {
     "data": {
      "text/plain": [
       "u'This summer, when the Treasury secretary, Henry M. Paulson Jr., sought help navigating the Wall Street meltdown, he turned to his old firm, Goldman Sachs, snagging a handful of former bankers and other experts in corporate restructurings, The New York Timess Julie Creswell and Ben White reported. In September, after the government bailed out the American International Group, the faltering insurance giant, for $85 billion, Mr. Paulson helped select a director from Goldmans own board to lead A.I.G'"
      ]
     },
     "execution_count": 45,
     "metadata": {},
     "output_type": "execute_result"
    }
   ],
   "source": [
    "df.article[63][:500]"
   ]
  },
  {
   "cell_type": "code",
   "execution_count": 46,
   "metadata": {
    "collapsed": false,
    "deletable": true,
    "editable": true
   },
   "outputs": [],
   "source": [
    "#NOTE: below we just use \"transform\" not \"fit_transform\"\n",
    "tfidf_vec_test = tfidf.transform(df_test.article)\n",
    "reduced_mat_test = lsa.transform(tfidf_vec_test)\n",
    "\n",
    "\n",
    "# For the Normalizer, we do a fit_transform, because this is just a division by a constant of each row\n",
    "reduced_mat_test = Normalizer(copy=False).fit_transform(reduced_mat_test)"
   ]
  },
  {
   "cell_type": "code",
   "execution_count": 47,
   "metadata": {
    "collapsed": false,
    "deletable": true,
    "editable": true
   },
   "outputs": [
    {
     "data": {
      "text/plain": [
       "(4, 50)"
      ]
     },
     "execution_count": 47,
     "metadata": {},
     "output_type": "execute_result"
    }
   ],
   "source": [
    "reduced_mat_test.shape"
   ]
  },
  {
   "cell_type": "code",
   "execution_count": 48,
   "metadata": {
    "collapsed": false,
    "deletable": true,
    "editable": true
   },
   "outputs": [
    {
     "data": {
      "text/plain": [
       "array([ 0.56519557,  0.03500484,  0.28676829, -0.00108777, -0.0791152 ,\n",
       "       -0.02747731,  0.00755793,  0.10826592,  0.11372057, -0.00140667,\n",
       "       -0.27821334,  0.35505217,  0.21879668,  0.02924652,  0.00772971,\n",
       "       -0.06788946,  0.0367779 , -0.00600234, -0.0422613 ,  0.07889285,\n",
       "       -0.00619056, -0.002643  ,  0.11800995, -0.04327226, -0.14848918,\n",
       "        0.09457409,  0.03018636,  0.01649967, -0.10543082, -0.07301131,\n",
       "        0.10757678,  0.16939261,  0.19751211, -0.07706407,  0.07551707,\n",
       "        0.00883721, -0.15154283, -0.16366294,  0.07330741, -0.17647199,\n",
       "       -0.04336024, -0.05359108, -0.03429203,  0.07323775,  0.0291328 ,\n",
       "       -0.08814713,  0.11513346,  0.09267815, -0.09764993, -0.07798702])"
      ]
     },
     "execution_count": 48,
     "metadata": {},
     "output_type": "execute_result"
    }
   ],
   "source": [
    "reduced_mat_test[1]"
   ]
  },
  {
   "cell_type": "code",
   "execution_count": 49,
   "metadata": {
    "collapsed": false,
    "deletable": true,
    "editable": true
   },
   "outputs": [
    {
     "data": {
      "text/plain": [
       "4"
      ]
     },
     "execution_count": 49,
     "metadata": {},
     "output_type": "execute_result"
    }
   ],
   "source": [
    "len(reduced_mat_test)"
   ]
  },
  {
   "cell_type": "code",
   "execution_count": 51,
   "metadata": {
    "collapsed": true,
    "deletable": true,
    "editable": true
   },
   "outputs": [],
   "source": [
    "''' generate a random article from holdout\n",
    "    but not from the dataframe, do it from \n",
    "     choose the Transformed, Normalized vector matrix:reduce_mat_test '''\n",
    "def gen_article(df):\n",
    "        num = np.random.choice(len(df))\n",
    "    return num, df[num]"
   ]
  },
  {
   "cell_type": "code",
   "execution_count": 228,
   "metadata": {
    "collapsed": true,
    "deletable": true,
    "editable": true
   },
   "outputs": [],
   "source": [
    "## This is a simple convenience function - given one vector representation of a document and \n",
    "## the representation of a corpus, return the (indices of) the most similar documents\n",
    "'''\n",
    "give me a vector that represetns a single document, give me a corpus (matrix of other do)\n",
    "'''\n",
    "def get_similar_docs(target_vec, corpus_vecs, num_res=5):\n",
    "    sim_scores = np.dot(target_vec, corpus_vecs.T)\n",
    "    return np.argsort(-sim_scores)[:num_res]"
   ]
  },
  {
   "cell_type": "code",
   "execution_count": 95,
   "metadata": {
    "collapsed": false,
    "deletable": true,
    "editable": true
   },
   "outputs": [],
   "source": [
    "\n",
    "which_article, choice_reduced_test = gen_article(reduced_mat_test)"
   ]
  },
  {
   "cell_type": "code",
   "execution_count": 96,
   "metadata": {
    "collapsed": false,
    "deletable": true,
    "editable": true,
    "scrolled": true
   },
   "outputs": [
    {
     "data": {
      "text/plain": [
       "array([5827, 5456, 5750,  954, 5562])"
      ]
     },
     "execution_count": 96,
     "metadata": {},
     "output_type": "execute_result"
    }
   ],
   "source": [
    "# test similarity (on randomly generated holdout set)\n",
    "\n",
    "get_similar_docs(choice_reduced_test, reduced_mat)"
   ]
  },
  {
   "cell_type": "code",
   "execution_count": null,
   "metadata": {
    "collapsed": false,
    "deletable": true,
    "editable": true
   },
   "outputs": [],
   "source": [
    "df_test.locwhich_article\n",
    "which_article\n"
   ]
  },
  {
   "cell_type": "code",
   "execution_count": 119,
   "metadata": {
    "collapsed": false,
    "deletable": true,
    "editable": true
   },
   "outputs": [],
   "source": [
    "''' generate article from holdout AND print out 5 most pertinent articles\n",
    "    'input' - \n",
    "    choice_vec_matrix :: data from which to generate choice article\n",
    "                                 - can be holdout set\n",
    "                                 - can be from a particular section of main set\n",
    "    data_set :: whatever the data is \n",
    "\n",
    "'''\n",
    "def print_recommended(choice_vec_matrix, data_set):\n",
    "    ## randomly generate article from holdout\n",
    "    ## get index of DF, and choice_test is the vector matrix\n",
    "    num_test, choice_test = gen_article(choice_vec_matrix)\n",
    "    array_five = get_similar_docs(choice_test, reduced_mat)\n",
    "    #print array_five\n",
    "    #snip = []\n",
    "    #title = []\n",
    "    \n",
    "    print \" num_test, choice+test\", num_test\n",
    "    print \" chosen article: \", data_set.iloc[num_test, :]['headline'][:] , \"\\n\"\n",
    "    #print \" array \", array_five\n",
    "    for a in array_five[1:]:\n",
    "        #print \"a is \", a\n",
    "        snip =  df.iloc[a,:]['article'][:500] \n",
    "        title =  df.iloc[a,:]['headline'][:500] \n",
    "        print \"\\t\", title\n",
    "        print snip , '\\n'\n",
    "   # print \"\\n\".join(title)"
   ]
  },
  {
   "cell_type": "code",
   "execution_count": 120,
   "metadata": {
    "collapsed": false,
    "deletable": true,
    "editable": true
   },
   "outputs": [
    {
     "name": "stdout",
     "output_type": "stream",
     "text": [
      " num_test, choice+test 1827\n",
      " chosen article:  Tracy Roosevelt, Robert O’Loughlin \n",
      "\n",
      "\tAnna Schecter, Dov Zigler\n",
      "Anna Ruth Augusta Schecter and Dov Zigler are to be married Sunday at the Thomas Fogarty Winery in Woodside, Calif. Rabbi Eric Grossman is to officiate. The bride, 34, works in New York as a producer for NBC News. She graduated summa cum laude from Middlebury College. She is the daughter of Dr. Gisela F. Schecter and Dr. William P. Schecter of San Francisco. Her mother retired as the lead consultant of the Multidrug-Resistant Tuberculosis Service at the California Department of Public Health. He \n",
      "\n",
      "\tSarah Lieber, Jonathan Wachter\n",
      "Dr. Sarah Beth Lieber and Jonathan David Wachter are to be married July 3 in New York. Rabbi Hirschy Zarchi will officiate at the Mandarin Oriental hotel. The bride, 31, completed her first year of a rheumatology fellowship at the Hospital for Special Surgery in New York and is to spend the next academic year as a chief resident in internal medicine at Beth Israel Deaconess Medical Center in Boston. She graduated magna cum laude from Yale and received a medical degree from Harvard. She is a daug \n",
      "\n",
      "\tRicha Tandon, Mrunal Parmar\n",
      "Richa Tandon, a daughter of Neeta Tandon and Kishore Tandon of South Brunswick, N.J., was married Aug. 27 to Dr. Mrunal Harendrasinh Parmar, the son of Sohagi Parmar and Harendrasinh Parmar of Paramus, N.J. Pandit Bharatkumar Jani, a Hindu priest, officiated at the Hilton Pearl River in Pearl River, N.Y. The couple met during their first week at N.Y.U., and connected despite the future brides difficulty with Mr. Parmars first name. She kept calling him Munich, instead of the proper pronunciation \n",
      "\n",
      "\tPascale Bibi, Oliver Board\n",
      "Eva Pascale Smith Bibi and Oliver James Board were married April 2 at a private beach residence belonging to Jason Harel, a friend of the bride and her father, in Poste Lafayette, Mauritius. Wahid Lalloo, a principal civil status officer for the Republic of Mauritius, officiated. The bride, 33, and groom, 43, met at N.Y.U., from which each received a law degree, he magna cum laude. The bride, who is known as Pascale, is keeping her surname. She is a litigation associate at the New York law firm  \n",
      "\n"
     ]
    }
   ],
   "source": [
    "# generate article from main set\n",
    "print_recommended(reduced_mat, df)"
   ]
  },
  {
   "cell_type": "code",
   "execution_count": 121,
   "metadata": {
    "collapsed": false,
    "deletable": true,
    "editable": true
   },
   "outputs": [
    {
     "name": "stdout",
     "output_type": "stream",
     "text": [
      " num_test, choice+test 1\n",
      " chosen article:  Knocking at Opportunity From Alabama’s Sideline \n",
      "\n",
      "\tJets Want Quantity From Draft, but Also a Potentially Costly Prospect in Marcus Mariota\n",
      "FLORHAM PARK, N.J.   Mike Maccagnan graduated from Trinity College expecting to become not a football scout but a financial analyst. He applied for positions on Wall Street but then chose to pursue a career working in the N.F.L., where he has still managed to put his degree in economics to good use. Heading into his first draft as the Jets general manager, Maccagnan compared his approach  assessing risks, projecting returns  to that of a portfolio manager. Do you pick one stock that you think is \n",
      "\n",
      "\tMichigan Makes It Official: Jim Harbaugh Is the Football Coach\n",
      "ANN ARBOR, Mich.   It all seemed so familiar as Jim Harbaugh stood on a podium Tuesday and discussed becoming Michigans football coach. In the first few rows were his wife and children, the former Michigan coaches Lloyd Carr and Gary Moeller, and Kathy Schembechler, the widow of the revered coach Bo Schembechler. Harbaughs parents, Jackie and Jack, a former Michigan assistant under Schembechler, were also present. The news conference that made the worst-kept secret in the state official was one  \n",
      "\n",
      "\tFor N.F.L. Draft, Carson Wentz Has Everything but Pedigree\n",
      "The quarterback is 6 feet 5 inches, 237 pounds, with reddish blond hair, confident eyes and large hands. In college, he played prominent roles for two national championship teams. He was terrific at the Senior Bowl and the N.F.L. scouting combine and is described, by all accounts, as humble, religious and hardworking. Given those credentials, it is little surprise that the quarterback, Carson Wentz, is a potential No. 1 overall pick in the N.F.L. draft, which begins Thursday in Chicago. He is ex \n",
      "\n",
      "\tGame Theory Says Pete Carroll’s Call at Goal Line Is Defensible\n",
      "Its the biggest moment in your N.F.L. coaching career: 26 seconds remain in the Super Bowl, your team is 4 points behind, you have the ball just one yard short of the end zone, its second down, and your team has arguably the N.F.L.s best running back. Whats your call? Run or pass? Heres what I would do: Call a game theorist, someone who specializes in the branch of economics that analyzes strategic interactions. Game theory is the tool used to understand how global superpowers respond to each ot \n",
      "\n"
     ]
    }
   ],
   "source": [
    "# generate article from holdout set :: test against whole corpu\n",
    "print_recommended(reduced_mat_test, df_test)"
   ]
  },
  {
   "cell_type": "code",
   "execution_count": null,
   "metadata": {
    "collapsed": false,
    "deletable": true,
    "editable": true
   },
   "outputs": [],
   "source": [
    "df.iloc[5830,:]['article'][:500]"
   ]
  },
  {
   "cell_type": "code",
   "execution_count": null,
   "metadata": {
    "collapsed": false,
    "deletable": true,
    "editable": true
   },
   "outputs": [],
   "source": [
    "df_test.iloc[which_article,:]['article'][:500]\n"
   ]
  },
  {
   "cell_type": "markdown",
   "metadata": {
    "deletable": true,
    "editable": true
   },
   "source": [
    "# User input Functions"
   ]
  },
  {
   "cell_type": "code",
   "execution_count": 215,
   "metadata": {
    "collapsed": false,
    "deletable": true,
    "editable": true
   },
   "outputs": [],
   "source": [
    "def gen_article(df):\n",
    "    num = np.random.choice(len(df))\n",
    "    return num, df[num]"
   ]
  },
  {
   "cell_type": "code",
   "execution_count": 218,
   "metadata": {
    "collapsed": false,
    "deletable": true,
    "editable": true
   },
   "outputs": [],
   "source": [
    "def gen_multiple(df, how_many):\n",
    "    num = [np.random.choice(len(df)) for a in range(how_many) ]\n",
    "    titles = [ df.iloc[a,:]['headline'][:500] for a in num]\n",
    "    \n",
    "    print (\"index \\t Title \\n\")\n",
    "    for a in range(len(titles)):\n",
    "        print num[a], '\\t', titles[a]\n",
    "    return num "
   ]
  },
  {
   "cell_type": "code",
   "execution_count": 219,
   "metadata": {
    "collapsed": false,
    "deletable": true,
    "editable": true
   },
   "outputs": [
    {
     "name": "stdout",
     "output_type": "stream",
     "text": [
      "index \t Title \n",
      "\n",
      "2340 \tAfter ‘Frozen,’ a Baby Boomlet of Elsas\n",
      "1160 \tSome Predict Tuition Increases Under Hillary Clinton’s College Plan\n",
      "4304 \tWhatsApp Encryption Said to Stymie Wiretap Order\n"
     ]
    },
    {
     "data": {
      "text/plain": [
       "[2340, 1160, 4304]"
      ]
     },
     "execution_count": 219,
     "metadata": {},
     "output_type": "execute_result"
    }
   ],
   "source": [
    "gen_multiple(df, 3)"
   ]
  },
  {
   "cell_type": "markdown",
   "metadata": {
    "deletable": true,
    "editable": true
   },
   "source": [
    "### get topic for doc_vector"
   ]
  },
  {
   "cell_type": "code",
   "execution_count": 220,
   "metadata": {
    "collapsed": true,
    "deletable": true,
    "editable": true
   },
   "outputs": [],
   "source": [
    "terms = np.array(tfidf.get_feature_names())"
   ]
  },
  {
   "cell_type": "code",
   "execution_count": 221,
   "metadata": {
    "collapsed": true,
    "deletable": true,
    "editable": true
   },
   "outputs": [],
   "source": [
    "def get_topical_terms(topic_mat, topic_num, term_vec, num_terms=25):\n",
    "    return term_vec[np.argsort(-topic_mat[topic_num,:])][:num_terms]"
   ]
  },
  {
   "cell_type": "code",
   "execution_count": 223,
   "metadata": {
    "collapsed": false,
    "deletable": true,
    "editable": true,
    "scrolled": true
   },
   "outputs": [],
   "source": [
    "# for i in range(5):\n",
    "#     print(\"topic {}\".format(i))\n",
    "#     print(get_topical_terms(lsa.components_,i,terms, 35))"
   ]
  },
  {
   "cell_type": "code",
   "execution_count": 232,
   "metadata": {
    "collapsed": false,
    "deletable": true,
    "editable": true
   },
   "outputs": [
    {
     "data": {
      "text/plain": [
       "0"
      ]
     },
     "execution_count": 232,
     "metadata": {},
     "output_type": "execute_result"
    }
   ],
   "source": [
    "#topics go from 0-50\n",
    "#get_topical_terms(lsa.components_,num_ix,terms)\n",
    "\n",
    "''' \n",
    "get the index of the max value\n",
    "'''\n",
    "topic_ix = reduced_mat[num_ix].argmax(axis=0)\n",
    "topic_ix# 50x1 .shape\n",
    "tmp = pd.Series(reduced_mat[num_ix])\n",
    "tmp.sort_values(ascending=False)[:5]"
   ]
  },
  {
   "cell_type": "code",
   "execution_count": 206,
   "metadata": {
    "collapsed": false,
    "deletable": true,
    "editable": true
   },
   "outputs": [
    {
     "data": {
      "text/plain": [
       "array([u'funds', u'fund', u'hedge', u'percent', u'apple', u'cruz',\n",
       "       u'students', u'countries', u'iphone', u'iceland', u'workers',\n",
       "       u'org', u'states', u'investors', u'income', u'mccain', u'managers',\n",
       "       u'strauss', u'obama', u'women', u'art', u'security', u'wealth',\n",
       "       u'kahn', u'stocks', u'officials', u'children', u'apples', u'iowa',\n",
       "       u'money', u'emerging', u'hungary', u'united', u'russia', u'points'], \n",
       "      dtype='<U19')"
      ]
     },
     "execution_count": 206,
     "metadata": {},
     "output_type": "execute_result"
    }
   ],
   "source": [
    "get_topical_terms(lsa.components_,20,terms, 35)"
   ]
  },
  {
   "cell_type": "code",
   "execution_count": 308,
   "metadata": {
    "collapsed": false,
    "deletable": true,
    "editable": true
   },
   "outputs": [],
   "source": [
    "def get_recommended(data_set, num_ix):\n",
    "    ''' \n",
    "    assumes using reduced_mat vector matrix (and that's ok)\n",
    "    '''\n",
    "    \n",
    "    #num_test, choice_test = gen_article(choice_vec_matrix)\n",
    "    choice_test = reduced_mat[num_ix]\n",
    "    \n",
    "    array_five = get_similar_docs(choice_test, reduced_mat)\n",
    "    #snip = []\n",
    "    #title = []\n",
    "\n",
    "    print \" chosen article: \", data_set.iloc[num_ix, :]['headline'][:] , \"\\n\"\n",
    "   # print array_five #print \" array \", array_five\n",
    "    choice = ['a', 'b', 'c']\n",
    "    \n",
    "    for a in array_five[1:]:\n",
    "        #print \"a is \", a\n",
    "        title =  df.iloc[a,:]['headline'][:500] \n",
    "        print a, \"\\t\", title\n",
    "        #print snip , '\\n'\n",
    "        \n",
    "    #let's return the terms for this \n",
    "    ################# store doc_vector ###############\n",
    "    # use num_ix to access the DOCUMENT In Tall skinny matrix\n",
    "    asd = reduced_mat[num_ix,:]\n",
    "    # 5 most common topics in this document\n",
    "    topic_list = np.argsort(-asd)[:5]\n",
    "    names_list = [terms_names[a] for a in topic_list]\n",
    "    \n",
    "    return names_list"
   ]
  },
  {
   "cell_type": "code",
   "execution_count": 309,
   "metadata": {
    "collapsed": false,
    "deletable": true,
    "editable": true
   },
   "outputs": [],
   "source": [
    "#for name in terms_names:\n",
    " #   tmp_list.count('government')\n",
    "\n",
    "def interest_dict(l):\n",
    "    tmp_list = [item for sublist in l for item in sublist]   \n",
    "    interests = { name : tmp_list.count(name)  for name in terms_names}\n",
    "    return interests"
   ]
  },
  {
   "cell_type": "code",
   "execution_count": null,
   "metadata": {
    "collapsed": true,
    "deletable": true,
    "editable": true
   },
   "outputs": [],
   "source": []
  },
  {
   "cell_type": "code",
   "execution_count": null,
   "metadata": {
    "collapsed": true,
    "deletable": true,
    "editable": true
   },
   "outputs": [],
   "source": []
  },
  {
   "cell_type": "code",
   "execution_count": null,
   "metadata": {
    "collapsed": true,
    "deletable": true,
    "editable": true
   },
   "outputs": [],
   "source": []
  },
  {
   "cell_type": "code",
   "execution_count": null,
   "metadata": {
    "collapsed": true,
    "deletable": true,
    "editable": true
   },
   "outputs": [],
   "source": []
  },
  {
   "cell_type": "code",
   "execution_count": null,
   "metadata": {
    "collapsed": true,
    "deletable": true,
    "editable": true
   },
   "outputs": [],
   "source": []
  },
  {
   "cell_type": "code",
   "execution_count": null,
   "metadata": {
    "collapsed": true,
    "deletable": true,
    "editable": true
   },
   "outputs": [],
   "source": []
  },
  {
   "cell_type": "code",
   "execution_count": null,
   "metadata": {
    "collapsed": true,
    "deletable": true,
    "editable": true
   },
   "outputs": [],
   "source": []
  },
  {
   "cell_type": "code",
   "execution_count": null,
   "metadata": {
    "collapsed": true,
    "deletable": true,
    "editable": true
   },
   "outputs": [],
   "source": []
  },
  {
   "cell_type": "code",
   "execution_count": null,
   "metadata": {
    "collapsed": true,
    "deletable": true,
    "editable": true
   },
   "outputs": [],
   "source": []
  },
  {
   "cell_type": "code",
   "execution_count": null,
   "metadata": {
    "collapsed": true,
    "deletable": true,
    "editable": true
   },
   "outputs": [],
   "source": []
  },
  {
   "cell_type": "markdown",
   "metadata": {
    "deletable": true,
    "editable": true
   },
   "source": [
    "## user input"
   ]
  },
  {
   "cell_type": "code",
   "execution_count": 322,
   "metadata": {
    "collapsed": false,
    "deletable": true,
    "editable": true
   },
   "outputs": [
    {
     "name": "stdout",
     "output_type": "stream",
     "text": [
      " \n",
      " WHAT DO YOU WANT TO READ? (please input index)\n",
      "index \t Title \n",
      "\n",
      "3614 \tThe Twinned Egos of Cruz and Trump\n",
      "707 \tIn Search of the Entry-Level Art Buyer\n",
      "2935 \tMexico Stubbornly Resists Accountability\n",
      "3614\n",
      " chosen article:  The Twinned Egos of Cruz and Trump \n",
      "\n",
      "3266 \tTrump and Cruz Set an Ugly, Nasty Tone\n",
      "3098 \tObnoxiousness Is the New Charisma\n",
      "3428 \tSmart Guns and Shifty Politics As Governor Christie Runs for President\n",
      "3427 \tBob Dole Warns of &#8216;Cataclysmic&#8217; Losses With Ted Cruz, and Says Donald Trump Would Do Better\n",
      " \n",
      " WHAT DO YOU WANT TO READ? (please input index)\n",
      "3266\n",
      " chosen article:  Trump and Cruz Set an Ugly, Nasty Tone \n",
      "\n",
      "3265 \tAt Republican Debate, Taunts and Quips as Rivals Battle\n",
      "3098 \tObnoxiousness Is the New Charisma\n",
      "3264 \tMy Take on the Republican Presidential Debate\n",
      "3280 \tNarrowing Fight Offers a Clearer Glimpse of the Front of the Pack\n",
      " \n",
      " WHAT DO YOU WANT TO READ? (please input index)\n",
      "3264\n",
      " chosen article:  My Take on the Republican Presidential Debate \n",
      "\n",
      "3266 \tTrump and Cruz Set an Ugly, Nasty Tone\n",
      "3265 \tAt Republican Debate, Taunts and Quips as Rivals Battle\n",
      "3510 \tIn Support of Ted Cruz, Glenn Beck Slams Donald Trump\n",
      "3511 \tPaid Notice: Deaths  WASHINGTON, BRYAN \n",
      "{'europe & economics': 0, 'art & culture': 0, 'Education': 0, 'national security': 0, 'business& technology': 3, 'Democrat news': 0, 'election--primaries': 3, 'Music&Entertainment': 0, 'government': 3, 'international finance /china': 1, 'Smart Phones': 0, 'sports': 0, 'White house news': 0, 'Justice department': 1, 'party politics': 0, 'university sports': 0, 'Republican news': 2, 'Sunday edition (summary)': 0, 'TPP and trade': 0, 'climate & energy': 2}\n"
     ]
    }
   ],
   "source": [
    "user_profile_app()"
   ]
  },
  {
   "cell_type": "code",
   "execution_count": 321,
   "metadata": {
    "collapsed": false,
    "deletable": true,
    "editable": true
   },
   "outputs": [],
   "source": [
    "def user_profile_app():\n",
    "    doc_vector =[]\n",
    "    counter=0\n",
    "\n",
    "    while (counter <3):\n",
    "        print \" \\n WHAT DO YOU WANT TO READ? (please input index)\"\n",
    "\n",
    "        if counter == 0: gen_multiple(df, 3)\n",
    "        num_ix = input()\n",
    "\n",
    "        topics =  get_recommended(df, num_ix)\n",
    "        doc_vector.append(topics)\n",
    "\n",
    "        #print (\"your interests are: \", doc_vector)\n",
    "        counter+=1\n",
    "\n",
    "    interest = interest_dict(doc_vector)\n",
    "    print( interest)"
   ]
  },
  {
   "cell_type": "code",
   "execution_count": 325,
   "metadata": {
    "collapsed": false,
    "deletable": true,
    "editable": true
   },
   "outputs": [
    {
     "ename": "ValueError",
     "evalue": "If using all scalar values, you must pass an index",
     "output_type": "error",
     "traceback": [
      "\u001b[0;31m---------------------------------------------------------------------------\u001b[0m",
      "\u001b[0;31mValueError\u001b[0m                                Traceback (most recent call last)",
      "\u001b[0;32m<ipython-input-325-05e92e8c54a8>\u001b[0m in \u001b[0;36m<module>\u001b[0;34m()\u001b[0m\n\u001b[0;32m----> 1\u001b[0;31m \u001b[0mpd\u001b[0m\u001b[0;34m.\u001b[0m\u001b[0mDataFrame\u001b[0m\u001b[0;34m(\u001b[0m\u001b[0minterest\u001b[0m\u001b[0;34m)\u001b[0m\u001b[0;34m\u001b[0m\u001b[0m\n\u001b[0m",
      "\u001b[0;32m/Users/billierolih/anaconda/lib/python2.7/site-packages/pandas/core/frame.pyc\u001b[0m in \u001b[0;36m__init__\u001b[0;34m(self, data, index, columns, dtype, copy)\u001b[0m\n\u001b[1;32m    222\u001b[0m                                  dtype=dtype, copy=copy)\n\u001b[1;32m    223\u001b[0m         \u001b[0;32melif\u001b[0m \u001b[0misinstance\u001b[0m\u001b[0;34m(\u001b[0m\u001b[0mdata\u001b[0m\u001b[0;34m,\u001b[0m \u001b[0mdict\u001b[0m\u001b[0;34m)\u001b[0m\u001b[0;34m:\u001b[0m\u001b[0;34m\u001b[0m\u001b[0m\n\u001b[0;32m--> 224\u001b[0;31m             \u001b[0mmgr\u001b[0m \u001b[0;34m=\u001b[0m \u001b[0mself\u001b[0m\u001b[0;34m.\u001b[0m\u001b[0m_init_dict\u001b[0m\u001b[0;34m(\u001b[0m\u001b[0mdata\u001b[0m\u001b[0;34m,\u001b[0m \u001b[0mindex\u001b[0m\u001b[0;34m,\u001b[0m \u001b[0mcolumns\u001b[0m\u001b[0;34m,\u001b[0m \u001b[0mdtype\u001b[0m\u001b[0;34m=\u001b[0m\u001b[0mdtype\u001b[0m\u001b[0;34m)\u001b[0m\u001b[0;34m\u001b[0m\u001b[0m\n\u001b[0m\u001b[1;32m    225\u001b[0m         \u001b[0;32melif\u001b[0m \u001b[0misinstance\u001b[0m\u001b[0;34m(\u001b[0m\u001b[0mdata\u001b[0m\u001b[0;34m,\u001b[0m \u001b[0mma\u001b[0m\u001b[0;34m.\u001b[0m\u001b[0mMaskedArray\u001b[0m\u001b[0;34m)\u001b[0m\u001b[0;34m:\u001b[0m\u001b[0;34m\u001b[0m\u001b[0m\n\u001b[1;32m    226\u001b[0m             \u001b[0;32mimport\u001b[0m \u001b[0mnumpy\u001b[0m\u001b[0;34m.\u001b[0m\u001b[0mma\u001b[0m\u001b[0;34m.\u001b[0m\u001b[0mmrecords\u001b[0m \u001b[0;32mas\u001b[0m \u001b[0mmrecords\u001b[0m\u001b[0;34m\u001b[0m\u001b[0m\n",
      "\u001b[0;32m/Users/billierolih/anaconda/lib/python2.7/site-packages/pandas/core/frame.pyc\u001b[0m in \u001b[0;36m_init_dict\u001b[0;34m(self, data, index, columns, dtype)\u001b[0m\n\u001b[1;32m    358\u001b[0m             \u001b[0marrays\u001b[0m \u001b[0;34m=\u001b[0m \u001b[0;34m[\u001b[0m\u001b[0mdata\u001b[0m\u001b[0;34m[\u001b[0m\u001b[0mk\u001b[0m\u001b[0;34m]\u001b[0m \u001b[0;32mfor\u001b[0m \u001b[0mk\u001b[0m \u001b[0;32min\u001b[0m \u001b[0mkeys\u001b[0m\u001b[0;34m]\u001b[0m\u001b[0;34m\u001b[0m\u001b[0m\n\u001b[1;32m    359\u001b[0m \u001b[0;34m\u001b[0m\u001b[0m\n\u001b[0;32m--> 360\u001b[0;31m         \u001b[0;32mreturn\u001b[0m \u001b[0m_arrays_to_mgr\u001b[0m\u001b[0;34m(\u001b[0m\u001b[0marrays\u001b[0m\u001b[0;34m,\u001b[0m \u001b[0mdata_names\u001b[0m\u001b[0;34m,\u001b[0m \u001b[0mindex\u001b[0m\u001b[0;34m,\u001b[0m \u001b[0mcolumns\u001b[0m\u001b[0;34m,\u001b[0m \u001b[0mdtype\u001b[0m\u001b[0;34m=\u001b[0m\u001b[0mdtype\u001b[0m\u001b[0;34m)\u001b[0m\u001b[0;34m\u001b[0m\u001b[0m\n\u001b[0m\u001b[1;32m    361\u001b[0m \u001b[0;34m\u001b[0m\u001b[0m\n\u001b[1;32m    362\u001b[0m     \u001b[0;32mdef\u001b[0m \u001b[0m_init_ndarray\u001b[0m\u001b[0;34m(\u001b[0m\u001b[0mself\u001b[0m\u001b[0;34m,\u001b[0m \u001b[0mvalues\u001b[0m\u001b[0;34m,\u001b[0m \u001b[0mindex\u001b[0m\u001b[0;34m,\u001b[0m \u001b[0mcolumns\u001b[0m\u001b[0;34m,\u001b[0m \u001b[0mdtype\u001b[0m\u001b[0;34m=\u001b[0m\u001b[0mNone\u001b[0m\u001b[0;34m,\u001b[0m \u001b[0mcopy\u001b[0m\u001b[0;34m=\u001b[0m\u001b[0mFalse\u001b[0m\u001b[0;34m)\u001b[0m\u001b[0;34m:\u001b[0m\u001b[0;34m\u001b[0m\u001b[0m\n",
      "\u001b[0;32m/Users/billierolih/anaconda/lib/python2.7/site-packages/pandas/core/frame.pyc\u001b[0m in \u001b[0;36m_arrays_to_mgr\u001b[0;34m(arrays, arr_names, index, columns, dtype)\u001b[0m\n\u001b[1;32m   5229\u001b[0m     \u001b[0;31m# figure out the index, if necessary\u001b[0m\u001b[0;34m\u001b[0m\u001b[0;34m\u001b[0m\u001b[0m\n\u001b[1;32m   5230\u001b[0m     \u001b[0;32mif\u001b[0m \u001b[0mindex\u001b[0m \u001b[0;32mis\u001b[0m \u001b[0mNone\u001b[0m\u001b[0;34m:\u001b[0m\u001b[0;34m\u001b[0m\u001b[0m\n\u001b[0;32m-> 5231\u001b[0;31m         \u001b[0mindex\u001b[0m \u001b[0;34m=\u001b[0m \u001b[0mextract_index\u001b[0m\u001b[0;34m(\u001b[0m\u001b[0marrays\u001b[0m\u001b[0;34m)\u001b[0m\u001b[0;34m\u001b[0m\u001b[0m\n\u001b[0m\u001b[1;32m   5232\u001b[0m     \u001b[0;32melse\u001b[0m\u001b[0;34m:\u001b[0m\u001b[0;34m\u001b[0m\u001b[0m\n\u001b[1;32m   5233\u001b[0m         \u001b[0mindex\u001b[0m \u001b[0;34m=\u001b[0m \u001b[0m_ensure_index\u001b[0m\u001b[0;34m(\u001b[0m\u001b[0mindex\u001b[0m\u001b[0;34m)\u001b[0m\u001b[0;34m\u001b[0m\u001b[0m\n",
      "\u001b[0;32m/Users/billierolih/anaconda/lib/python2.7/site-packages/pandas/core/frame.pyc\u001b[0m in \u001b[0;36mextract_index\u001b[0;34m(data)\u001b[0m\n\u001b[1;32m   5268\u001b[0m \u001b[0;34m\u001b[0m\u001b[0m\n\u001b[1;32m   5269\u001b[0m         \u001b[0;32mif\u001b[0m \u001b[0;32mnot\u001b[0m \u001b[0mindexes\u001b[0m \u001b[0;32mand\u001b[0m \u001b[0;32mnot\u001b[0m \u001b[0mraw_lengths\u001b[0m\u001b[0;34m:\u001b[0m\u001b[0;34m\u001b[0m\u001b[0m\n\u001b[0;32m-> 5270\u001b[0;31m             raise ValueError('If using all scalar values, you must pass'\n\u001b[0m\u001b[1;32m   5271\u001b[0m                              ' an index')\n\u001b[1;32m   5272\u001b[0m \u001b[0;34m\u001b[0m\u001b[0m\n",
      "\u001b[0;31mValueError\u001b[0m: If using all scalar values, you must pass an index"
     ]
    }
   ],
   "source": [
    "pd.DataFrame(interest, columns = )"
   ]
  },
  {
   "cell_type": "code",
   "execution_count": 312,
   "metadata": {
    "collapsed": false,
    "deletable": true,
    "editable": true
   },
   "outputs": [
    {
     "data": {
      "text/plain": [
       "{'Democrat news': 0,\n",
       " 'Education': 0,\n",
       " 'Justice department': 1,\n",
       " 'Republican news': 2,\n",
       " 'Smart Phones': 0,\n",
       " 'Sunday edition (summary)': 0,\n",
       " 'TPP and trade': 3,\n",
       " 'White house news': 0,\n",
       " 'art & culture': 3,\n",
       " 'business& technology': 0,\n",
       " 'climate & energy': 0,\n",
       " 'election--primaries': 0,\n",
       " 'europe & economics': 1,\n",
       " 'government': 3,\n",
       " 'international finance /china': 0,\n",
       " 'national security': 0,\n",
       " 'party politics': 0,\n",
       " 'sports': 0,\n",
       " 'theater, music, arts': 2,\n",
       " 'university sports': 0}"
      ]
     },
     "execution_count": 312,
     "metadata": {},
     "output_type": "execute_result"
    }
   ],
   "source": [
    "interest"
   ]
  },
  {
   "cell_type": "code",
   "execution_count": 311,
   "metadata": {
    "collapsed": false,
    "deletable": true,
    "editable": true
   },
   "outputs": [
    {
     "data": {
      "text/plain": [
       "[['government',\n",
       "  'art & culture',\n",
       "  'TPP and trade',\n",
       "  'Republican news',\n",
       "  'europe & economics'],\n",
       " ['government',\n",
       "  'art & culture',\n",
       "  'theater, music, arts',\n",
       "  'TPP and trade',\n",
       "  'Republican news'],\n",
       " ['government',\n",
       "  'art & culture',\n",
       "  'theater, music, arts',\n",
       "  'TPP and trade',\n",
       "  'Justice department']]"
      ]
     },
     "execution_count": 311,
     "metadata": {},
     "output_type": "execute_result"
    }
   ],
   "source": [
    "doc_vector"
   ]
  },
  {
   "cell_type": "code",
   "execution_count": 284,
   "metadata": {
    "collapsed": false,
    "deletable": true,
    "editable": true
   },
   "outputs": [],
   "source": [
    "#flatten nested list\n",
    "tmp_list = [item for sublist in doc_vector for item in sublist]"
   ]
  },
  {
   "cell_type": "code",
   "execution_count": 286,
   "metadata": {
    "collapsed": false,
    "deletable": true,
    "editable": true
   },
   "outputs": [
    {
     "data": {
      "text/plain": [
       "['government',\n",
       " 'election--primaries',\n",
       " 'art & culture',\n",
       " 'business& technology',\n",
       " 'Democrat news',\n",
       " 'national security',\n",
       " 'europe & economics',\n",
       " 'university sports',\n",
       " 'sports',\n",
       " 'international finance /china',\n",
       " 'theater, music, arts',\n",
       " 'TPP and trade',\n",
       " 'Sunday edition (summary)',\n",
       " 'climate & energy',\n",
       " 'party politics',\n",
       " 'Republican news',\n",
       " 'White house news',\n",
       " 'Justice department',\n",
       " 'Education',\n",
       " 'Smart Phones']"
      ]
     },
     "execution_count": 286,
     "metadata": {},
     "output_type": "execute_result"
    }
   ],
   "source": [
    "terms_names"
   ]
  },
  {
   "cell_type": "code",
   "execution_count": 273,
   "metadata": {
    "collapsed": false,
    "deletable": true,
    "editable": true
   },
   "outputs": [
    {
     "data": {
      "text/plain": [
       "array([['government', 'europe & economics', 'national security',\n",
       "        'Smart Phones', 'Republican news'],\n",
       "       ['government', 'europe & economics', 'national security',\n",
       "        'Smart Phones', 'Republican news'],\n",
       "       ['government', 'europe & economics', 'national security',\n",
       "        'Smart Phones', 'Republican news'],\n",
       "       ['government', 'europe & economics', 'national security',\n",
       "        'Smart Phones', 'Republican news'],\n",
       "       ['government', 'europe & economics', 'national security',\n",
       "        'Smart Phones', 'Republican news']], \n",
       "      dtype='|S18')"
      ]
     },
     "execution_count": 273,
     "metadata": {},
     "output_type": "execute_result"
    }
   ],
   "source": [
    "np.array(doc_vector)"
   ]
  },
  {
   "cell_type": "code",
   "execution_count": 269,
   "metadata": {
    "collapsed": false,
    "deletable": true,
    "editable": true
   },
   "outputs": [
    {
     "data": {
      "text/plain": [
       "'government'"
      ]
     },
     "execution_count": 269,
     "metadata": {},
     "output_type": "execute_result"
    }
   ],
   "source": [
    "len(doc_vector)\n",
    "doc_vector[1][0]\n",
    "for i in range(len(doc_vector)):\n",
    "    for "
   ]
  },
  {
   "cell_type": "code",
   "execution_count": null,
   "metadata": {
    "collapsed": true,
    "deletable": true,
    "editable": true
   },
   "outputs": [],
   "source": [
    "topic_ix = reduced_mat[num_ix].argmax(axis=0)\n",
    "topic_ix# 50x1 .shape\n",
    "\n",
    "tmp = pd.Series(reduced_mat[num_ix])\n",
    "tmp.sort_values(ascending=False)[:3]\n",
    "\n",
    "get_topical_terms(lsa.components_,i,terms, 35)"
   ]
  },
  {
   "cell_type": "code",
   "execution_count": 239,
   "metadata": {
    "collapsed": false,
    "deletable": true,
    "editable": true
   },
   "outputs": [
    {
     "data": {
      "text/plain": [
       "20"
      ]
     },
     "execution_count": 239,
     "metadata": {},
     "output_type": "execute_result"
    }
   ],
   "source": [
    "num_ix"
   ]
  },
  {
   "cell_type": "code",
   "execution_count": 240,
   "metadata": {
    "collapsed": false,
    "deletable": true,
    "editable": true
   },
   "outputs": [
    {
     "data": {
      "text/plain": [
       "array([ 0.61120451, -0.33108199, -0.35415291,  0.02314434, -0.05975528,\n",
       "        0.2925098 ,  0.46145198, -0.02745358, -0.08234366, -0.15033592,\n",
       "       -0.00726785,  0.06359065, -0.02291592,  0.06134749, -0.08081357,\n",
       "        0.10361072,  0.00642989,  0.01020423, -0.03999104,  0.1767827 ])"
      ]
     },
     "execution_count": 240,
     "metadata": {},
     "output_type": "execute_result"
    }
   ],
   "source": [
    "asd = reduced_mat[num_ix,:]\n",
    "asd"
   ]
  },
  {
   "cell_type": "code",
   "execution_count": 245,
   "metadata": {
    "collapsed": false,
    "deletable": true,
    "editable": true
   },
   "outputs": [],
   "source": [
    "t = np.argsort(-asd)[:5]"
   ]
  },
  {
   "cell_type": "code",
   "execution_count": 259,
   "metadata": {
    "collapsed": false,
    "deletable": true,
    "editable": true
   },
   "outputs": [
    {
     "data": {
      "text/plain": [
       "['government',\n",
       " 'europe & economics',\n",
       " 'national security',\n",
       " 'Smart Phones',\n",
       " 'Republican news']"
      ]
     },
     "execution_count": 259,
     "metadata": {},
     "output_type": "execute_result"
    }
   ],
   "source": [
    "a = [terms_names[a] for a in t]\n",
    "a"
   ]
  },
  {
   "cell_type": "code",
   "execution_count": 244,
   "metadata": {
    "collapsed": false,
    "deletable": true,
    "editable": true
   },
   "outputs": [
    {
     "data": {
      "text/plain": [
       "['government',\n",
       " 'election--primaries',\n",
       " 'art & culture',\n",
       " 'business& technology',\n",
       " 'Democrat news',\n",
       " 'national security',\n",
       " 'europe & economics',\n",
       " 'university sports',\n",
       " 'sports',\n",
       " 'international finance /china',\n",
       " 'theater, music, arts',\n",
       " 'TPP and trade',\n",
       " 'Sunday edition (summary)',\n",
       " 'climate & energy',\n",
       " 'party politics',\n",
       " 'Republican news',\n",
       " 'White house news',\n",
       " 'Justice department',\n",
       " 'Education',\n",
       " 'Smart Phones']"
      ]
     },
     "execution_count": 244,
     "metadata": {},
     "output_type": "execute_result"
    }
   ],
   "source": [
    "terms_names\n"
   ]
  },
  {
   "cell_type": "code",
   "execution_count": 224,
   "metadata": {
    "collapsed": false,
    "deletable": true,
    "editable": true
   },
   "outputs": [
    {
     "name": "stdout",
     "output_type": "stream",
     "text": [
      "0    0.493977\n",
      "2    0.387497\n",
      "6    0.287818\n",
      "dtype: float64\n"
     ]
    }
   ],
   "source": [
    "tmp = pd.Series(reduced_mat[254,:])\n",
    "print (tmp.sort_values(ascending=False)[:3])\n",
    "\n",
    "term_ix = tmp.sort_values(ascending=False)[:3].index"
   ]
  },
  {
   "cell_type": "code",
   "execution_count": 234,
   "metadata": {
    "collapsed": false,
    "deletable": true,
    "editable": true
   },
   "outputs": [
    {
     "name": "stdout",
     "output_type": "stream",
     "text": [
      "[u'new' u'percent' u'people' u'year' u'trump' u'clinton' u'president'\n",
      " u'obama' u'years' u'last' u'states' u'economic' u'state' u'government'\n",
      " u'republican' u'many' u'time' u'economy' u'even' u'american' u'tax'\n",
      " u'united' u'companies' u'company' u'campaign' u'political' u'much'\n",
      " u'world' u'sanders' u'money' u'financial' u'york' u'party' u'work' u'make']\n",
      "[u'tax' u'funds' u'hedge' u'banks' u'fund' u'money' u'mccain' u'financial'\n",
      " u'billion' u'investors' u'bank' u'cruz' u'school' u'nyt' u'bush' u'street'\n",
      " u'cuts' u'wall' u'investment' u'taxes' u'income' u'york' u'firm'\n",
      " u'paulson' u'credit' u'health' u'college' u'equity' u'republican'\n",
      " u'goldman' u'fed' u'firms' u'pay' u'plan' u'business']\n",
      "[u'gun' u'women' u'banks' u'workers' u'jobs' u'wage' u'energy' u'greece'\n",
      " u'obama' u'apple' u'climate' u'article' u'power' u'oil' u'labor'\n",
      " u'lending' u'job' u'misstated' u'saudi' u'political' u'party' u'voters'\n",
      " u'minimum' u'economy' u'team' u'men' u'work' u'guns' u'paulson' u'players'\n",
      " u'wages' u'government' u'bank' u'carbon' u'greek']\n"
     ]
    }
   ],
   "source": [
    "for a in [0,8,34]:\n",
    "    print (get_topical_terms(lsa.components_,a,terms, 35))"
   ]
  },
  {
   "cell_type": "code",
   "execution_count": null,
   "metadata": {
    "collapsed": true,
    "deletable": true,
    "editable": true
   },
   "outputs": [],
   "source": []
  },
  {
   "cell_type": "code",
   "execution_count": 323,
   "metadata": {
    "collapsed": false,
    "deletable": true,
    "editable": true
   },
   "outputs": [
    {
     "name": "stdout",
     "output_type": "stream",
     "text": [
      "5\n"
     ]
    }
   ],
   "source": [
    "a = input()\n"
   ]
  },
  {
   "cell_type": "code",
   "execution_count": 324,
   "metadata": {
    "collapsed": false,
    "deletable": true,
    "editable": true
   },
   "outputs": [
    {
     "data": {
      "text/plain": [
       "5"
      ]
     },
     "execution_count": 324,
     "metadata": {},
     "output_type": "execute_result"
    }
   ],
   "source": [
    "a\n"
   ]
  },
  {
   "cell_type": "code",
   "execution_count": null,
   "metadata": {
    "collapsed": true,
    "deletable": true,
    "editable": true
   },
   "outputs": [],
   "source": []
  },
  {
   "cell_type": "code",
   "execution_count": null,
   "metadata": {
    "collapsed": true,
    "deletable": true,
    "editable": true
   },
   "outputs": [],
   "source": [
    "# def format_it(txt):\n",
    "#     \"\"\"Turns a text document to a list of formatted words.\n",
    "#     Get rid of possessives, special characters, multiple spaces, etc.\n",
    "#     \"\"\"\n",
    "#     tt = re.sub(r\"'s\\b\", '', txt).lower()  #possessives\n",
    "#     tt = re.sub(r'[\\.\\,\\;\\:\\|\\'\\\"\\(\\)\\{\\}\\$\\&\\%\\*\\+\\[\\]\\=\\?\\!/]', '', tt)  #weird stuff\n",
    "#     tt = re.sub(r' *\\$[0-9]\\S* ?', '', tt)  #dollar amounts\n",
    "#     tt = re.sub(r' *[0-9]\\S* ?', '', tt)    \n",
    "#     tt = re.sub(r'[\\-\\s]+', ' ', tt)  #hyphen -> space\n",
    "#     tt = re.sub(r' [a-z] ', ' ', tt)  # single letter -> space\n",
    "#     return tt.strip()#.split() \n",
    "\n",
    "#returns an array  when you split it/ "
   ]
  },
  {
   "cell_type": "code",
   "execution_count": null,
   "metadata": {
    "collapsed": false,
    "deletable": true,
    "editable": true
   },
   "outputs": [],
   "source": [
    "# format_it('000 the}| Article. ; a.q$,' )\n",
    "## apply format_it to clean text \n",
    "# texts [format(doc['article']) for doc in raw\n",
    "# # df_smaller=pd.DataFrame\n",
    "# df_smaller['article']= df['article'].apply(lambda x: format_it(x))"
   ]
  }
 ],
 "metadata": {
  "kernelspec": {
   "display_name": "Python 2",
   "language": "python",
   "name": "python2"
  },
  "language_info": {
   "codemirror_mode": {
    "name": "ipython",
    "version": 2
   },
   "file_extension": ".py",
   "mimetype": "text/x-python",
   "name": "python",
   "nbconvert_exporter": "python",
   "pygments_lexer": "ipython2",
   "version": "2.7.13"
  }
 },
 "nbformat": 4,
 "nbformat_minor": 2
}
